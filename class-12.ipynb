{
 "cells": [
  {
   "cell_type": "code",
   "execution_count": 1,
   "id": "b72bbe5c",
   "metadata": {},
   "outputs": [],
   "source": [
    "import pandas as pd\n",
    "import numpy as np\n",
    "from matplotlib import pyplot as plt\n",
    "import seaborn as sns\n",
    "from sklearn.model_selection import train_test_split as tts\n",
    "from sklearn.tree import DecisionTreeClassifier\n",
    "from sklearn import tree\n",
    "from sklearn.metrics import classification_report, accuracy_score, confusion_matrix, roc_curve\n",
    "import warnings\n",
    "warnings.filterwarnings('ignore')"
   ]
  },
  {
   "cell_type": "code",
   "execution_count": 2,
   "id": "9f1168b5",
   "metadata": {},
   "outputs": [],
   "source": [
    "df = pd.read_excel('heart.xlsx')"
   ]
  },
  {
   "cell_type": "code",
   "execution_count": 3,
   "id": "dc14c001",
   "metadata": {},
   "outputs": [
    {
     "data": {
      "text/html": [
       "<div>\n",
       "<style scoped>\n",
       "    .dataframe tbody tr th:only-of-type {\n",
       "        vertical-align: middle;\n",
       "    }\n",
       "\n",
       "    .dataframe tbody tr th {\n",
       "        vertical-align: top;\n",
       "    }\n",
       "\n",
       "    .dataframe thead th {\n",
       "        text-align: right;\n",
       "    }\n",
       "</style>\n",
       "<table border=\"1\" class=\"dataframe\">\n",
       "  <thead>\n",
       "    <tr style=\"text-align: right;\">\n",
       "      <th></th>\n",
       "      <th>age</th>\n",
       "      <th>anaemia</th>\n",
       "      <th>creatinine_phosphokinase</th>\n",
       "      <th>diabetes</th>\n",
       "      <th>ejection_fraction</th>\n",
       "      <th>high_blood_pressure</th>\n",
       "      <th>platelets</th>\n",
       "      <th>serum_creatinine</th>\n",
       "      <th>serum_sodium</th>\n",
       "      <th>sex</th>\n",
       "      <th>smoking</th>\n",
       "      <th>time</th>\n",
       "      <th>DEATH_EVENT</th>\n",
       "    </tr>\n",
       "  </thead>\n",
       "  <tbody>\n",
       "    <tr>\n",
       "      <th>0</th>\n",
       "      <td>75.0</td>\n",
       "      <td>0</td>\n",
       "      <td>582</td>\n",
       "      <td>0</td>\n",
       "      <td>20</td>\n",
       "      <td>1</td>\n",
       "      <td>265000.00</td>\n",
       "      <td>1.9</td>\n",
       "      <td>130</td>\n",
       "      <td>1</td>\n",
       "      <td>0</td>\n",
       "      <td>4</td>\n",
       "      <td>1</td>\n",
       "    </tr>\n",
       "    <tr>\n",
       "      <th>1</th>\n",
       "      <td>55.0</td>\n",
       "      <td>0</td>\n",
       "      <td>7861</td>\n",
       "      <td>0</td>\n",
       "      <td>38</td>\n",
       "      <td>0</td>\n",
       "      <td>263358.03</td>\n",
       "      <td>1.1</td>\n",
       "      <td>136</td>\n",
       "      <td>1</td>\n",
       "      <td>0</td>\n",
       "      <td>6</td>\n",
       "      <td>1</td>\n",
       "    </tr>\n",
       "    <tr>\n",
       "      <th>2</th>\n",
       "      <td>65.0</td>\n",
       "      <td>0</td>\n",
       "      <td>146</td>\n",
       "      <td>0</td>\n",
       "      <td>20</td>\n",
       "      <td>0</td>\n",
       "      <td>162000.00</td>\n",
       "      <td>1.3</td>\n",
       "      <td>129</td>\n",
       "      <td>1</td>\n",
       "      <td>1</td>\n",
       "      <td>7</td>\n",
       "      <td>1</td>\n",
       "    </tr>\n",
       "    <tr>\n",
       "      <th>3</th>\n",
       "      <td>50.0</td>\n",
       "      <td>1</td>\n",
       "      <td>111</td>\n",
       "      <td>0</td>\n",
       "      <td>20</td>\n",
       "      <td>0</td>\n",
       "      <td>210000.00</td>\n",
       "      <td>1.9</td>\n",
       "      <td>137</td>\n",
       "      <td>1</td>\n",
       "      <td>0</td>\n",
       "      <td>7</td>\n",
       "      <td>1</td>\n",
       "    </tr>\n",
       "    <tr>\n",
       "      <th>4</th>\n",
       "      <td>65.0</td>\n",
       "      <td>1</td>\n",
       "      <td>160</td>\n",
       "      <td>1</td>\n",
       "      <td>20</td>\n",
       "      <td>0</td>\n",
       "      <td>327000.00</td>\n",
       "      <td>2.7</td>\n",
       "      <td>116</td>\n",
       "      <td>0</td>\n",
       "      <td>0</td>\n",
       "      <td>8</td>\n",
       "      <td>1</td>\n",
       "    </tr>\n",
       "  </tbody>\n",
       "</table>\n",
       "</div>"
      ],
      "text/plain": [
       "    age  anaemia  creatinine_phosphokinase  diabetes  ejection_fraction  \\\n",
       "0  75.0        0                       582         0                 20   \n",
       "1  55.0        0                      7861         0                 38   \n",
       "2  65.0        0                       146         0                 20   \n",
       "3  50.0        1                       111         0                 20   \n",
       "4  65.0        1                       160         1                 20   \n",
       "\n",
       "   high_blood_pressure  platelets  serum_creatinine  serum_sodium  sex  \\\n",
       "0                    1  265000.00               1.9           130    1   \n",
       "1                    0  263358.03               1.1           136    1   \n",
       "2                    0  162000.00               1.3           129    1   \n",
       "3                    0  210000.00               1.9           137    1   \n",
       "4                    0  327000.00               2.7           116    0   \n",
       "\n",
       "   smoking  time  DEATH_EVENT  \n",
       "0        0     4            1  \n",
       "1        0     6            1  \n",
       "2        1     7            1  \n",
       "3        0     7            1  \n",
       "4        0     8            1  "
      ]
     },
     "execution_count": 3,
     "metadata": {},
     "output_type": "execute_result"
    }
   ],
   "source": [
    "df.head()"
   ]
  },
  {
   "cell_type": "code",
   "execution_count": 4,
   "id": "1fae4d0f",
   "metadata": {},
   "outputs": [
    {
     "data": {
      "text/plain": [
       "(299, 13)"
      ]
     },
     "execution_count": 4,
     "metadata": {},
     "output_type": "execute_result"
    }
   ],
   "source": [
    "df.shape"
   ]
  },
  {
   "cell_type": "code",
   "execution_count": 5,
   "id": "85e4a060",
   "metadata": {},
   "outputs": [
    {
     "data": {
      "text/plain": [
       "0    203\n",
       "1     96\n",
       "Name: DEATH_EVENT, dtype: int64"
      ]
     },
     "execution_count": 5,
     "metadata": {},
     "output_type": "execute_result"
    }
   ],
   "source": [
    "df.DEATH_EVENT.value_counts()"
   ]
  },
  {
   "cell_type": "code",
   "execution_count": 6,
   "id": "675b183a",
   "metadata": {},
   "outputs": [
    {
     "data": {
      "text/plain": [
       "<AxesSubplot:xlabel='DEATH_EVENT', ylabel='count'>"
      ]
     },
     "execution_count": 6,
     "metadata": {},
     "output_type": "execute_result"
    },
    {
     "data": {
      "image/png": "[encoded data removed]",
      "text/plain": [
       "<Figure size 432x288 with 1 Axes>"
      ]
     },
     "metadata": {
      "needs_background": "light"
     },
     "output_type": "display_data"
    }
   ],
   "source": [
    "sns.countplot(df.DEATH_EVENT)"
   ]
  },
  {
   "cell_type": "code",
   "execution_count": 7,
   "id": "22abb3fb",
   "metadata": {},
   "outputs": [
    {
     "data": {
      "text/plain": [
       "<AxesSubplot:xlabel='diabetes', ylabel='count'>"
      ]
     },
     "execution_count": 7,
     "metadata": {},
     "output_type": "execute_result"
    },
    {
     "data": {
      "image/png": "[encoded data removed]",
      "text/plain": [
       "<Figure size 432x288 with 1 Axes>"
      ]
     },
     "metadata": {
      "needs_background": "light"
     },
     "output_type": "display_data"
    }
   ],
   "source": [
    "sns.countplot(x='diabetes',hue='DEATH_EVENT',data=df)"
   ]
  },
  {
   "cell_type": "code",
   "execution_count": 8,
   "id": "192ffe7e",
   "metadata": {},
   "outputs": [
    {
     "data": {
      "text/plain": [
       "<AxesSubplot:xlabel='high_blood_pressure', ylabel='count'>"
      ]
     },
     "execution_count": 8,
     "metadata": {},
     "output_type": "execute_result"
    },
    {
     "data": {
      "image/png": "[encoded data removed]",
      "text/plain": [
       "<Figure size 432x288 with 1 Axes>"
      ]
     },
     "metadata": {
      "needs_background": "light"
     },
     "output_type": "display_data"
    }
   ],
   "source": [
    "sns.countplot(x='high_blood_pressure',hue='DEATH_EVENT',data=df)"
   ]
  },
  {
   "cell_type": "code",
   "execution_count": 9,
   "id": "1ee86280",
   "metadata": {},
   "outputs": [
    {
     "data": {
      "text/html": [
       "<div>\n",
       "<style scoped>\n",
       "    .dataframe tbody tr th:only-of-type {\n",
       "        vertical-align: middle;\n",
       "    }\n",
       "\n",
       "    .dataframe tbody tr th {\n",
       "        vertical-align: top;\n",
       "    }\n",
       "\n",
       "    .dataframe thead th {\n",
       "        text-align: right;\n",
       "    }\n",
       "</style>\n",
       "<table border=\"1\" class=\"dataframe\">\n",
       "  <thead>\n",
       "    <tr style=\"text-align: right;\">\n",
       "      <th></th>\n",
       "      <th>age</th>\n",
       "      <th>anaemia</th>\n",
       "      <th>creatinine_phosphokinase</th>\n",
       "      <th>diabetes</th>\n",
       "      <th>ejection_fraction</th>\n",
       "      <th>high_blood_pressure</th>\n",
       "      <th>platelets</th>\n",
       "      <th>serum_creatinine</th>\n",
       "      <th>serum_sodium</th>\n",
       "      <th>sex</th>\n",
       "      <th>smoking</th>\n",
       "      <th>time</th>\n",
       "      <th>DEATH_EVENT</th>\n",
       "    </tr>\n",
       "  </thead>\n",
       "  <tbody>\n",
       "    <tr>\n",
       "      <th>age</th>\n",
       "      <td>1.000000</td>\n",
       "      <td>0.088006</td>\n",
       "      <td>-0.081584</td>\n",
       "      <td>-0.101012</td>\n",
       "      <td>0.060098</td>\n",
       "      <td>0.093289</td>\n",
       "      <td>-0.052354</td>\n",
       "      <td>0.159187</td>\n",
       "      <td>-0.045966</td>\n",
       "      <td>0.065430</td>\n",
       "      <td>0.018668</td>\n",
       "      <td>-0.224068</td>\n",
       "      <td>0.253729</td>\n",
       "    </tr>\n",
       "    <tr>\n",
       "      <th>anaemia</th>\n",
       "      <td>0.088006</td>\n",
       "      <td>1.000000</td>\n",
       "      <td>-0.190741</td>\n",
       "      <td>-0.012729</td>\n",
       "      <td>0.031557</td>\n",
       "      <td>0.038182</td>\n",
       "      <td>-0.043786</td>\n",
       "      <td>0.052174</td>\n",
       "      <td>0.041882</td>\n",
       "      <td>-0.094769</td>\n",
       "      <td>-0.107290</td>\n",
       "      <td>-0.141414</td>\n",
       "      <td>0.066270</td>\n",
       "    </tr>\n",
       "    <tr>\n",
       "      <th>creatinine_phosphokinase</th>\n",
       "      <td>-0.081584</td>\n",
       "      <td>-0.190741</td>\n",
       "      <td>1.000000</td>\n",
       "      <td>-0.009639</td>\n",
       "      <td>-0.044080</td>\n",
       "      <td>-0.070590</td>\n",
       "      <td>0.024463</td>\n",
       "      <td>-0.016408</td>\n",
       "      <td>0.059550</td>\n",
       "      <td>0.079791</td>\n",
       "      <td>0.002421</td>\n",
       "      <td>-0.009346</td>\n",
       "      <td>0.062728</td>\n",
       "    </tr>\n",
       "    <tr>\n",
       "      <th>diabetes</th>\n",
       "      <td>-0.101012</td>\n",
       "      <td>-0.012729</td>\n",
       "      <td>-0.009639</td>\n",
       "      <td>1.000000</td>\n",
       "      <td>-0.004850</td>\n",
       "      <td>-0.012732</td>\n",
       "      <td>0.092193</td>\n",
       "      <td>-0.046975</td>\n",
       "      <td>-0.089551</td>\n",
       "      <td>-0.157730</td>\n",
       "      <td>-0.147173</td>\n",
       "      <td>0.033726</td>\n",
       "      <td>-0.001943</td>\n",
       "    </tr>\n",
       "    <tr>\n",
       "      <th>ejection_fraction</th>\n",
       "      <td>0.060098</td>\n",
       "      <td>0.031557</td>\n",
       "      <td>-0.044080</td>\n",
       "      <td>-0.004850</td>\n",
       "      <td>1.000000</td>\n",
       "      <td>0.024445</td>\n",
       "      <td>0.072177</td>\n",
       "      <td>-0.011302</td>\n",
       "      <td>0.175902</td>\n",
       "      <td>-0.148386</td>\n",
       "      <td>-0.067315</td>\n",
       "      <td>0.041729</td>\n",
       "      <td>-0.268603</td>\n",
       "    </tr>\n",
       "    <tr>\n",
       "      <th>high_blood_pressure</th>\n",
       "      <td>0.093289</td>\n",
       "      <td>0.038182</td>\n",
       "      <td>-0.070590</td>\n",
       "      <td>-0.012732</td>\n",
       "      <td>0.024445</td>\n",
       "      <td>1.000000</td>\n",
       "      <td>0.049963</td>\n",
       "      <td>-0.004935</td>\n",
       "      <td>0.037109</td>\n",
       "      <td>-0.104615</td>\n",
       "      <td>-0.055711</td>\n",
       "      <td>-0.196439</td>\n",
       "      <td>0.079351</td>\n",
       "    </tr>\n",
       "    <tr>\n",
       "      <th>platelets</th>\n",
       "      <td>-0.052354</td>\n",
       "      <td>-0.043786</td>\n",
       "      <td>0.024463</td>\n",
       "      <td>0.092193</td>\n",
       "      <td>0.072177</td>\n",
       "      <td>0.049963</td>\n",
       "      <td>1.000000</td>\n",
       "      <td>-0.041198</td>\n",
       "      <td>0.062125</td>\n",
       "      <td>-0.125120</td>\n",
       "      <td>0.028234</td>\n",
       "      <td>0.010514</td>\n",
       "      <td>-0.049139</td>\n",
       "    </tr>\n",
       "    <tr>\n",
       "      <th>serum_creatinine</th>\n",
       "      <td>0.159187</td>\n",
       "      <td>0.052174</td>\n",
       "      <td>-0.016408</td>\n",
       "      <td>-0.046975</td>\n",
       "      <td>-0.011302</td>\n",
       "      <td>-0.004935</td>\n",
       "      <td>-0.041198</td>\n",
       "      <td>1.000000</td>\n",
       "      <td>-0.189095</td>\n",
       "      <td>0.006970</td>\n",
       "      <td>-0.027414</td>\n",
       "      <td>-0.149315</td>\n",
       "      <td>0.294278</td>\n",
       "    </tr>\n",
       "    <tr>\n",
       "      <th>serum_sodium</th>\n",
       "      <td>-0.045966</td>\n",
       "      <td>0.041882</td>\n",
       "      <td>0.059550</td>\n",
       "      <td>-0.089551</td>\n",
       "      <td>0.175902</td>\n",
       "      <td>0.037109</td>\n",
       "      <td>0.062125</td>\n",
       "      <td>-0.189095</td>\n",
       "      <td>1.000000</td>\n",
       "      <td>-0.027566</td>\n",
       "      <td>0.004813</td>\n",
       "      <td>0.087640</td>\n",
       "      <td>-0.195204</td>\n",
       "    </tr>\n",
       "    <tr>\n",
       "      <th>sex</th>\n",
       "      <td>0.065430</td>\n",
       "      <td>-0.094769</td>\n",
       "      <td>0.079791</td>\n",
       "      <td>-0.157730</td>\n",
       "      <td>-0.148386</td>\n",
       "      <td>-0.104615</td>\n",
       "      <td>-0.125120</td>\n",
       "      <td>0.006970</td>\n",
       "      <td>-0.027566</td>\n",
       "      <td>1.000000</td>\n",
       "      <td>0.445892</td>\n",
       "      <td>-0.015608</td>\n",
       "      <td>-0.004316</td>\n",
       "    </tr>\n",
       "    <tr>\n",
       "      <th>smoking</th>\n",
       "      <td>0.018668</td>\n",
       "      <td>-0.107290</td>\n",
       "      <td>0.002421</td>\n",
       "      <td>-0.147173</td>\n",
       "      <td>-0.067315</td>\n",
       "      <td>-0.055711</td>\n",
       "      <td>0.028234</td>\n",
       "      <td>-0.027414</td>\n",
       "      <td>0.004813</td>\n",
       "      <td>0.445892</td>\n",
       "      <td>1.000000</td>\n",
       "      <td>-0.022839</td>\n",
       "      <td>-0.012623</td>\n",
       "    </tr>\n",
       "    <tr>\n",
       "      <th>time</th>\n",
       "      <td>-0.224068</td>\n",
       "      <td>-0.141414</td>\n",
       "      <td>-0.009346</td>\n",
       "      <td>0.033726</td>\n",
       "      <td>0.041729</td>\n",
       "      <td>-0.196439</td>\n",
       "      <td>0.010514</td>\n",
       "      <td>-0.149315</td>\n",
       "      <td>0.087640</td>\n",
       "      <td>-0.015608</td>\n",
       "      <td>-0.022839</td>\n",
       "      <td>1.000000</td>\n",
       "      <td>-0.526964</td>\n",
       "    </tr>\n",
       "    <tr>\n",
       "      <th>DEATH_EVENT</th>\n",
       "      <td>0.253729</td>\n",
       "      <td>0.066270</td>\n",
       "      <td>0.062728</td>\n",
       "      <td>-0.001943</td>\n",
       "      <td>-0.268603</td>\n",
       "      <td>0.079351</td>\n",
       "      <td>-0.049139</td>\n",
       "      <td>0.294278</td>\n",
       "      <td>-0.195204</td>\n",
       "      <td>-0.004316</td>\n",
       "      <td>-0.012623</td>\n",
       "      <td>-0.526964</td>\n",
       "      <td>1.000000</td>\n",
       "    </tr>\n",
       "  </tbody>\n",
       "</table>\n",
       "</div>"
      ],
      "text/plain": [
       "                               age   anaemia  creatinine_phosphokinase  \\\n",
       "age                       1.000000  0.088006                 -0.081584   \n",
       "anaemia                   0.088006  1.000000                 -0.190741   \n",
       "creatinine_phosphokinase -0.081584 -0.190741                  1.000000   \n",
       "diabetes                 -0.101012 -0.012729                 -0.009639   \n",
       "ejection_fraction         0.060098  0.031557                 -0.044080   \n",
       "high_blood_pressure       0.093289  0.038182                 -0.070590   \n",
       "platelets                -0.052354 -0.043786                  0.024463   \n",
       "serum_creatinine          0.159187  0.052174                 -0.016408   \n",
       "serum_sodium             -0.045966  0.041882                  0.059550   \n",
       "sex                       0.065430 -0.094769                  0.079791   \n",
       "smoking                   0.018668 -0.107290                  0.002421   \n",
       "time                     -0.224068 -0.141414                 -0.009346   \n",
       "DEATH_EVENT               0.253729  0.066270                  0.062728   \n",
       "\n",
       "                          diabetes  ejection_fraction  high_blood_pressure  \\\n",
       "age                      -0.101012           0.060098             0.093289   \n",
       "anaemia                  -0.012729           0.031557             0.038182   \n",
       "creatinine_phosphokinase -0.009639          -0.044080            -0.070590   \n",
       "diabetes                  1.000000          -0.004850            -0.012732   \n",
       "ejection_fraction        -0.004850           1.000000             0.024445   \n",
       "high_blood_pressure      -0.012732           0.024445             1.000000   \n",
       "platelets                 0.092193           0.072177             0.049963   \n",
       "serum_creatinine         -0.046975          -0.011302            -0.004935   \n",
       "serum_sodium             -0.089551           0.175902             0.037109   \n",
       "sex                      -0.157730          -0.148386            -0.104615   \n",
       "smoking                  -0.147173          -0.067315            -0.055711   \n",
       "time                      0.033726           0.041729            -0.196439   \n",
       "DEATH_EVENT              -0.001943          -0.268603             0.079351   \n",
       "\n",
       "                          platelets  serum_creatinine  serum_sodium       sex  \\\n",
       "age                       -0.052354          0.159187     -0.045966  0.065430   \n",
       "anaemia                   -0.043786          0.052174      0.041882 -0.094769   \n",
       "creatinine_phosphokinase   0.024463         -0.016408      0.059550  0.079791   \n",
       "diabetes                   0.092193         -0.046975     -0.089551 -0.157730   \n",
       "ejection_fraction          0.072177         -0.011302      0.175902 -0.148386   \n",
       "high_blood_pressure        0.049963         -0.004935      0.037109 -0.104615   \n",
       "platelets                  1.000000         -0.041198      0.062125 -0.125120   \n",
       "serum_creatinine          -0.041198          1.000000     -0.189095  0.006970   \n",
       "serum_sodium               0.062125         -0.189095      1.000000 -0.027566   \n",
       "sex                       -0.125120          0.006970     -0.027566  1.000000   \n",
       "smoking                    0.028234         -0.027414      0.004813  0.445892   \n",
       "time                       0.010514         -0.149315      0.087640 -0.015608   \n",
       "DEATH_EVENT               -0.049139          0.294278     -0.195204 -0.004316   \n",
       "\n",
       "                           smoking      time  DEATH_EVENT  \n",
       "age                       0.018668 -0.224068     0.253729  \n",
       "anaemia                  -0.107290 -0.141414     0.066270  \n",
       "creatinine_phosphokinase  0.002421 -0.009346     0.062728  \n",
       "diabetes                 -0.147173  0.033726    -0.001943  \n",
       "ejection_fraction        -0.067315  0.041729    -0.268603  \n",
       "high_blood_pressure      -0.055711 -0.196439     0.079351  \n",
       "platelets                 0.028234  0.010514    -0.049139  \n",
       "serum_creatinine         -0.027414 -0.149315     0.294278  \n",
       "serum_sodium              0.004813  0.087640    -0.195204  \n",
       "sex                       0.445892 -0.015608    -0.004316  \n",
       "smoking                   1.000000 -0.022839    -0.012623  \n",
       "time                     -0.022839  1.000000    -0.526964  \n",
       "DEATH_EVENT              -0.012623 -0.526964     1.000000  "
      ]
     },
     "execution_count": 9,
     "metadata": {},
     "output_type": "execute_result"
    }
   ],
   "source": [
    "df.corr()"
   ]
  },
  {
   "cell_type": "code",
   "execution_count": 10,
   "id": "35cbd021",
   "metadata": {},
   "outputs": [
    {
     "data": {
      "text/plain": [
       "<AxesSubplot:title={'center':'Correlation for every column'}>"
      ]
     },
     "execution_count": 10,
     "metadata": {},
     "output_type": "execute_result"
    },
    {
     "data": {
      "image/png": "[encoded data removed]",
      "text/plain": [
       "<Figure size 1296x864 with 2 Axes>"
      ]
     },
     "metadata": {
      "needs_background": "light"
     },
     "output_type": "display_data"
    }
   ],
   "source": [
    "plt.figure(figsize=(18,12))\n",
    "plt.title('Correlation for every column')\n",
    "sns.heatmap(df.corr(),annot=True)"
   ]
  },
  {
   "cell_type": "markdown",
   "id": "37685032",
   "metadata": {},
   "source": [
    "# Separete X,Y"
   ]
  },
  {
   "cell_type": "code",
   "execution_count": 11,
   "id": "a26813e1",
   "metadata": {},
   "outputs": [],
   "source": [
    "x = df.drop('DEATH_EVENT',axis=1)"
   ]
  },
  {
   "cell_type": "code",
   "execution_count": 12,
   "id": "02428133",
   "metadata": {},
   "outputs": [],
   "source": [
    "y=df[['DEATH_EVENT']]"
   ]
  },
  {
   "cell_type": "code",
   "execution_count": 13,
   "id": "ffee1ff2",
   "metadata": {},
   "outputs": [
    {
     "data": {
      "text/html": [
       "<div>\n",
       "<style scoped>\n",
       "    .dataframe tbody tr th:only-of-type {\n",
       "        vertical-align: middle;\n",
       "    }\n",
       "\n",
       "    .dataframe tbody tr th {\n",
       "        vertical-align: top;\n",
       "    }\n",
       "\n",
       "    .dataframe thead th {\n",
       "        text-align: right;\n",
       "    }\n",
       "</style>\n",
       "<table border=\"1\" class=\"dataframe\">\n",
       "  <thead>\n",
       "    <tr style=\"text-align: right;\">\n",
       "      <th></th>\n",
       "      <th>age</th>\n",
       "      <th>anaemia</th>\n",
       "      <th>creatinine_phosphokinase</th>\n",
       "      <th>diabetes</th>\n",
       "      <th>ejection_fraction</th>\n",
       "      <th>high_blood_pressure</th>\n",
       "      <th>platelets</th>\n",
       "      <th>serum_creatinine</th>\n",
       "      <th>serum_sodium</th>\n",
       "      <th>sex</th>\n",
       "      <th>smoking</th>\n",
       "      <th>time</th>\n",
       "    </tr>\n",
       "  </thead>\n",
       "  <tbody>\n",
       "    <tr>\n",
       "      <th>0</th>\n",
       "      <td>75.0</td>\n",
       "      <td>0</td>\n",
       "      <td>582</td>\n",
       "      <td>0</td>\n",
       "      <td>20</td>\n",
       "      <td>1</td>\n",
       "      <td>265000.00</td>\n",
       "      <td>1.9</td>\n",
       "      <td>130</td>\n",
       "      <td>1</td>\n",
       "      <td>0</td>\n",
       "      <td>4</td>\n",
       "    </tr>\n",
       "    <tr>\n",
       "      <th>1</th>\n",
       "      <td>55.0</td>\n",
       "      <td>0</td>\n",
       "      <td>7861</td>\n",
       "      <td>0</td>\n",
       "      <td>38</td>\n",
       "      <td>0</td>\n",
       "      <td>263358.03</td>\n",
       "      <td>1.1</td>\n",
       "      <td>136</td>\n",
       "      <td>1</td>\n",
       "      <td>0</td>\n",
       "      <td>6</td>\n",
       "    </tr>\n",
       "    <tr>\n",
       "      <th>2</th>\n",
       "      <td>65.0</td>\n",
       "      <td>0</td>\n",
       "      <td>146</td>\n",
       "      <td>0</td>\n",
       "      <td>20</td>\n",
       "      <td>0</td>\n",
       "      <td>162000.00</td>\n",
       "      <td>1.3</td>\n",
       "      <td>129</td>\n",
       "      <td>1</td>\n",
       "      <td>1</td>\n",
       "      <td>7</td>\n",
       "    </tr>\n",
       "    <tr>\n",
       "      <th>3</th>\n",
       "      <td>50.0</td>\n",
       "      <td>1</td>\n",
       "      <td>111</td>\n",
       "      <td>0</td>\n",
       "      <td>20</td>\n",
       "      <td>0</td>\n",
       "      <td>210000.00</td>\n",
       "      <td>1.9</td>\n",
       "      <td>137</td>\n",
       "      <td>1</td>\n",
       "      <td>0</td>\n",
       "      <td>7</td>\n",
       "    </tr>\n",
       "    <tr>\n",
       "      <th>4</th>\n",
       "      <td>65.0</td>\n",
       "      <td>1</td>\n",
       "      <td>160</td>\n",
       "      <td>1</td>\n",
       "      <td>20</td>\n",
       "      <td>0</td>\n",
       "      <td>327000.00</td>\n",
       "      <td>2.7</td>\n",
       "      <td>116</td>\n",
       "      <td>0</td>\n",
       "      <td>0</td>\n",
       "      <td>8</td>\n",
       "    </tr>\n",
       "  </tbody>\n",
       "</table>\n",
       "</div>"
      ],
      "text/plain": [
       "    age  anaemia  creatinine_phosphokinase  diabetes  ejection_fraction  \\\n",
       "0  75.0        0                       582         0                 20   \n",
       "1  55.0        0                      7861         0                 38   \n",
       "2  65.0        0                       146         0                 20   \n",
       "3  50.0        1                       111         0                 20   \n",
       "4  65.0        1                       160         1                 20   \n",
       "\n",
       "   high_blood_pressure  platelets  serum_creatinine  serum_sodium  sex  \\\n",
       "0                    1  265000.00               1.9           130    1   \n",
       "1                    0  263358.03               1.1           136    1   \n",
       "2                    0  162000.00               1.3           129    1   \n",
       "3                    0  210000.00               1.9           137    1   \n",
       "4                    0  327000.00               2.7           116    0   \n",
       "\n",
       "   smoking  time  \n",
       "0        0     4  \n",
       "1        0     6  \n",
       "2        1     7  \n",
       "3        0     7  \n",
       "4        0     8  "
      ]
     },
     "execution_count": 13,
     "metadata": {},
     "output_type": "execute_result"
    }
   ],
   "source": [
    "x.head()"
   ]
  },
  {
   "cell_type": "code",
   "execution_count": 14,
   "id": "41eb48c2",
   "metadata": {},
   "outputs": [
    {
     "data": {
      "text/html": [
       "<div>\n",
       "<style scoped>\n",
       "    .dataframe tbody tr th:only-of-type {\n",
       "        vertical-align: middle;\n",
       "    }\n",
       "\n",
       "    .dataframe tbody tr th {\n",
       "        vertical-align: top;\n",
       "    }\n",
       "\n",
       "    .dataframe thead th {\n",
       "        text-align: right;\n",
       "    }\n",
       "</style>\n",
       "<table border=\"1\" class=\"dataframe\">\n",
       "  <thead>\n",
       "    <tr style=\"text-align: right;\">\n",
       "      <th></th>\n",
       "      <th>DEATH_EVENT</th>\n",
       "    </tr>\n",
       "  </thead>\n",
       "  <tbody>\n",
       "    <tr>\n",
       "      <th>0</th>\n",
       "      <td>1</td>\n",
       "    </tr>\n",
       "    <tr>\n",
       "      <th>1</th>\n",
       "      <td>1</td>\n",
       "    </tr>\n",
       "    <tr>\n",
       "      <th>2</th>\n",
       "      <td>1</td>\n",
       "    </tr>\n",
       "    <tr>\n",
       "      <th>3</th>\n",
       "      <td>1</td>\n",
       "    </tr>\n",
       "    <tr>\n",
       "      <th>4</th>\n",
       "      <td>1</td>\n",
       "    </tr>\n",
       "  </tbody>\n",
       "</table>\n",
       "</div>"
      ],
      "text/plain": [
       "   DEATH_EVENT\n",
       "0            1\n",
       "1            1\n",
       "2            1\n",
       "3            1\n",
       "4            1"
      ]
     },
     "execution_count": 14,
     "metadata": {},
     "output_type": "execute_result"
    }
   ],
   "source": [
    "y.head()"
   ]
  },
  {
   "cell_type": "code",
   "execution_count": 15,
   "id": "653438e2",
   "metadata": {},
   "outputs": [],
   "source": [
    "xtrain,xtest,ytrain,ytest = tts(x,y,test_size=0.3,random_state=42)"
   ]
  },
  {
   "cell_type": "code",
   "execution_count": 16,
   "id": "737ae758",
   "metadata": {},
   "outputs": [
    {
     "data": {
      "text/html": [
       "<div>\n",
       "<style scoped>\n",
       "    .dataframe tbody tr th:only-of-type {\n",
       "        vertical-align: middle;\n",
       "    }\n",
       "\n",
       "    .dataframe tbody tr th {\n",
       "        vertical-align: top;\n",
       "    }\n",
       "\n",
       "    .dataframe thead th {\n",
       "        text-align: right;\n",
       "    }\n",
       "</style>\n",
       "<table border=\"1\" class=\"dataframe\">\n",
       "  <thead>\n",
       "    <tr style=\"text-align: right;\">\n",
       "      <th></th>\n",
       "      <th>age</th>\n",
       "      <th>anaemia</th>\n",
       "      <th>creatinine_phosphokinase</th>\n",
       "      <th>diabetes</th>\n",
       "      <th>ejection_fraction</th>\n",
       "      <th>high_blood_pressure</th>\n",
       "      <th>platelets</th>\n",
       "      <th>serum_creatinine</th>\n",
       "      <th>serum_sodium</th>\n",
       "      <th>sex</th>\n",
       "      <th>smoking</th>\n",
       "      <th>time</th>\n",
       "    </tr>\n",
       "  </thead>\n",
       "  <tbody>\n",
       "    <tr>\n",
       "      <th>224</th>\n",
       "      <td>58.0</td>\n",
       "      <td>0</td>\n",
       "      <td>582</td>\n",
       "      <td>1</td>\n",
       "      <td>25</td>\n",
       "      <td>0</td>\n",
       "      <td>504000.0</td>\n",
       "      <td>1.0</td>\n",
       "      <td>138</td>\n",
       "      <td>1</td>\n",
       "      <td>0</td>\n",
       "      <td>205</td>\n",
       "    </tr>\n",
       "    <tr>\n",
       "      <th>68</th>\n",
       "      <td>70.0</td>\n",
       "      <td>0</td>\n",
       "      <td>161</td>\n",
       "      <td>0</td>\n",
       "      <td>25</td>\n",
       "      <td>0</td>\n",
       "      <td>244000.0</td>\n",
       "      <td>1.2</td>\n",
       "      <td>142</td>\n",
       "      <td>0</td>\n",
       "      <td>0</td>\n",
       "      <td>66</td>\n",
       "    </tr>\n",
       "    <tr>\n",
       "      <th>222</th>\n",
       "      <td>42.0</td>\n",
       "      <td>1</td>\n",
       "      <td>86</td>\n",
       "      <td>0</td>\n",
       "      <td>35</td>\n",
       "      <td>0</td>\n",
       "      <td>365000.0</td>\n",
       "      <td>1.1</td>\n",
       "      <td>139</td>\n",
       "      <td>1</td>\n",
       "      <td>1</td>\n",
       "      <td>201</td>\n",
       "    </tr>\n",
       "    <tr>\n",
       "      <th>37</th>\n",
       "      <td>82.0</td>\n",
       "      <td>1</td>\n",
       "      <td>855</td>\n",
       "      <td>1</td>\n",
       "      <td>50</td>\n",
       "      <td>1</td>\n",
       "      <td>321000.0</td>\n",
       "      <td>1.0</td>\n",
       "      <td>145</td>\n",
       "      <td>0</td>\n",
       "      <td>0</td>\n",
       "      <td>30</td>\n",
       "    </tr>\n",
       "    <tr>\n",
       "      <th>16</th>\n",
       "      <td>87.0</td>\n",
       "      <td>1</td>\n",
       "      <td>149</td>\n",
       "      <td>0</td>\n",
       "      <td>38</td>\n",
       "      <td>0</td>\n",
       "      <td>262000.0</td>\n",
       "      <td>0.9</td>\n",
       "      <td>140</td>\n",
       "      <td>1</td>\n",
       "      <td>0</td>\n",
       "      <td>14</td>\n",
       "    </tr>\n",
       "  </tbody>\n",
       "</table>\n",
       "</div>"
      ],
      "text/plain": [
       "      age  anaemia  creatinine_phosphokinase  diabetes  ejection_fraction  \\\n",
       "224  58.0        0                       582         1                 25   \n",
       "68   70.0        0                       161         0                 25   \n",
       "222  42.0        1                        86         0                 35   \n",
       "37   82.0        1                       855         1                 50   \n",
       "16   87.0        1                       149         0                 38   \n",
       "\n",
       "     high_blood_pressure  platelets  serum_creatinine  serum_sodium  sex  \\\n",
       "224                    0   504000.0               1.0           138    1   \n",
       "68                     0   244000.0               1.2           142    0   \n",
       "222                    0   365000.0               1.1           139    1   \n",
       "37                     1   321000.0               1.0           145    0   \n",
       "16                     0   262000.0               0.9           140    1   \n",
       "\n",
       "     smoking  time  \n",
       "224        0   205  \n",
       "68         0    66  \n",
       "222        1   201  \n",
       "37         0    30  \n",
       "16         0    14  "
      ]
     },
     "execution_count": 16,
     "metadata": {},
     "output_type": "execute_result"
    }
   ],
   "source": [
    "xtrain.head()"
   ]
  },
  {
   "cell_type": "code",
   "execution_count": 17,
   "id": "53eaa4a4",
   "metadata": {},
   "outputs": [
    {
     "data": {
      "text/html": [
       "<div>\n",
       "<style scoped>\n",
       "    .dataframe tbody tr th:only-of-type {\n",
       "        vertical-align: middle;\n",
       "    }\n",
       "\n",
       "    .dataframe tbody tr th {\n",
       "        vertical-align: top;\n",
       "    }\n",
       "\n",
       "    .dataframe thead th {\n",
       "        text-align: right;\n",
       "    }\n",
       "</style>\n",
       "<table border=\"1\" class=\"dataframe\">\n",
       "  <thead>\n",
       "    <tr style=\"text-align: right;\">\n",
       "      <th></th>\n",
       "      <th>DEATH_EVENT</th>\n",
       "    </tr>\n",
       "  </thead>\n",
       "  <tbody>\n",
       "    <tr>\n",
       "      <th>224</th>\n",
       "      <td>0</td>\n",
       "    </tr>\n",
       "    <tr>\n",
       "      <th>68</th>\n",
       "      <td>1</td>\n",
       "    </tr>\n",
       "    <tr>\n",
       "      <th>222</th>\n",
       "      <td>0</td>\n",
       "    </tr>\n",
       "    <tr>\n",
       "      <th>37</th>\n",
       "      <td>1</td>\n",
       "    </tr>\n",
       "    <tr>\n",
       "      <th>16</th>\n",
       "      <td>1</td>\n",
       "    </tr>\n",
       "  </tbody>\n",
       "</table>\n",
       "</div>"
      ],
      "text/plain": [
       "     DEATH_EVENT\n",
       "224            0\n",
       "68             1\n",
       "222            0\n",
       "37             1\n",
       "16             1"
      ]
     },
     "execution_count": 17,
     "metadata": {},
     "output_type": "execute_result"
    }
   ],
   "source": [
    "ytrain.head()"
   ]
  },
  {
   "cell_type": "code",
   "execution_count": 18,
   "id": "4f6499f1",
   "metadata": {},
   "outputs": [
    {
     "data": {
      "text/plain": [
       "(209, 12)"
      ]
     },
     "execution_count": 18,
     "metadata": {},
     "output_type": "execute_result"
    }
   ],
   "source": [
    "xtrain.shape"
   ]
  },
  {
   "cell_type": "code",
   "execution_count": 19,
   "id": "fb3b2eb6",
   "metadata": {},
   "outputs": [
    {
     "data": {
      "text/plain": [
       "(90, 12)"
      ]
     },
     "execution_count": 19,
     "metadata": {},
     "output_type": "execute_result"
    }
   ],
   "source": [
    "xtest.shape"
   ]
  },
  {
   "cell_type": "code",
   "execution_count": 20,
   "id": "f29306fa",
   "metadata": {},
   "outputs": [],
   "source": [
    "dt = DecisionTreeClassifier()"
   ]
  },
  {
   "cell_type": "code",
   "execution_count": 21,
   "id": "ad5c50ce",
   "metadata": {},
   "outputs": [
    {
     "data": {
      "text/html": [
       "<style>#sk-container-id-1 {color: black;background-color: white;}#sk-container-id-1 pre{padding: 0;}#sk-container-id-1 div.sk-toggleable {background-color: white;}#sk-container-id-1 label.sk-toggleable__label {cursor: pointer;display: block;width: 100%;margin-bottom: 0;padding: 0.3em;box-sizing: border-box;text-align: center;}#sk-container-id-1 label.sk-toggleable__label-arrow:before {content: \"▸\";float: left;margin-right: 0.25em;color: #696969;}#sk-container-id-1 label.sk-toggleable__label-arrow:hover:before {color: black;}#sk-container-id-1 div.sk-estimator:hover label.sk-toggleable__label-arrow:before {color: black;}#sk-container-id-1 div.sk-toggleable__content {max-height: 0;max-width: 0;overflow: hidden;text-align: left;background-color: #f0f8ff;}#sk-container-id-1 div.sk-toggleable__content pre {margin: 0.2em;color: black;border-radius: 0.25em;background-color: #f0f8ff;}#sk-container-id-1 input.sk-toggleable__control:checked~div.sk-toggleable__content {max-height: 200px;max-width: 100%;overflow: auto;}#sk-container-id-1 input.sk-toggleable__control:checked~label.sk-toggleable__label-arrow:before {content: \"▾\";}#sk-container-id-1 div.sk-estimator input.sk-toggleable__control:checked~label.sk-toggleable__label {background-color: #d4ebff;}#sk-container-id-1 div.sk-label input.sk-toggleable__control:checked~label.sk-toggleable__label {background-color: #d4ebff;}#sk-container-id-1 input.sk-hidden--visually {border: 0;clip: rect(1px 1px 1px 1px);clip: rect(1px, 1px, 1px, 1px);height: 1px;margin: -1px;overflow: hidden;padding: 0;position: absolute;width: 1px;}#sk-container-id-1 div.sk-estimator {font-family: monospace;background-color: #f0f8ff;border: 1px dotted black;border-radius: 0.25em;box-sizing: border-box;margin-bottom: 0.5em;}#sk-container-id-1 div.sk-estimator:hover {background-color: #d4ebff;}#sk-container-id-1 div.sk-parallel-item::after {content: \"\";width: 100%;border-bottom: 1px solid gray;flex-grow: 1;}#sk-container-id-1 div.sk-label:hover label.sk-toggleable__label {background-color: #d4ebff;}#sk-container-id-1 div.sk-serial::before {content: \"\";position: absolute;border-left: 1px solid gray;box-sizing: border-box;top: 0;bottom: 0;left: 50%;z-index: 0;}#sk-container-id-1 div.sk-serial {display: flex;flex-direction: column;align-items: center;background-color: white;padding-right: 0.2em;padding-left: 0.2em;position: relative;}#sk-container-id-1 div.sk-item {position: relative;z-index: 1;}#sk-container-id-1 div.sk-parallel {display: flex;align-items: stretch;justify-content: center;background-color: white;position: relative;}#sk-container-id-1 div.sk-item::before, #sk-container-id-1 div.sk-parallel-item::before {content: \"\";position: absolute;border-left: 1px solid gray;box-sizing: border-box;top: 0;bottom: 0;left: 50%;z-index: -1;}#sk-container-id-1 div.sk-parallel-item {display: flex;flex-direction: column;z-index: 1;position: relative;background-color: white;}#sk-container-id-1 div.sk-parallel-item:first-child::after {align-self: flex-end;width: 50%;}#sk-container-id-1 div.sk-parallel-item:last-child::after {align-self: flex-start;width: 50%;}#sk-container-id-1 div.sk-parallel-item:only-child::after {width: 0;}#sk-container-id-1 div.sk-dashed-wrapped {border: 1px dashed gray;margin: 0 0.4em 0.5em 0.4em;box-sizing: border-box;padding-bottom: 0.4em;background-color: white;}#sk-container-id-1 div.sk-label label {font-family: monospace;font-weight: bold;display: inline-block;line-height: 1.2em;}#sk-container-id-1 div.sk-label-container {text-align: center;}#sk-container-id-1 div.sk-container {/* jupyter's `normalize.less` sets `[hidden] { display: none; }` but bootstrap.min.css set `[hidden] { display: none !important; }` so we also need the `!important` here to be able to override the default hidden behavior on the sphinx rendered scikit-learn.org. See: https://github.com/scikit-learn/scikit-learn/issues/21755 */display: inline-block !important;position: relative;}#sk-container-id-1 div.sk-text-repr-fallback {display: none;}</style><div id=\"sk-container-id-1\" class=\"sk-top-container\"><div class=\"sk-text-repr-fallback\"><pre>DecisionTreeClassifier()</pre><b>In a Jupyter environment, please rerun this cell to show the HTML representation or trust the notebook. <br />On GitHub, the HTML representation is unable to render, please try loading this page with nbviewer.org.</b></div><div class=\"sk-container\" hidden><div class=\"sk-item\"><div class=\"sk-estimator sk-toggleable\"><input class=\"sk-toggleable__control sk-hidden--visually\" id=\"sk-estimator-id-1\" type=\"checkbox\" checked><label for=\"sk-estimator-id-1\" class=\"sk-toggleable__label sk-toggleable__label-arrow\">DecisionTreeClassifier</label><div class=\"sk-toggleable__content\"><pre>DecisionTreeClassifier()</pre></div></div></div></div></div>"
      ],
      "text/plain": [
       "DecisionTreeClassifier()"
      ]
     },
     "execution_count": 21,
     "metadata": {},
     "output_type": "execute_result"
    }
   ],
   "source": [
    "dt.fit(xtrain,ytrain)"
   ]
  },
  {
   "cell_type": "code",
   "execution_count": 22,
   "id": "ed79db6a",
   "metadata": {},
   "outputs": [
    {
     "data": {
      "image/png": "[encoded data removed]",
      "text/plain": [
       "<Figure size 1440x1440 with 1 Axes>"
      ]
     },
     "metadata": {
      "needs_background": "light"
     },
     "output_type": "display_data"
    }
   ],
   "source": [
    "plt.figure(figsize=(20,20))\n",
    "tree.plot_tree(dt,filled=True,rounded=True,feature_names=x.columns)\n",
    "plt.savefig('tree.png',dpi=1200)"
   ]
  },
  {
   "cell_type": "code",
   "execution_count": 23,
   "id": "3852b3f8",
   "metadata": {},
   "outputs": [],
   "source": [
    "pred = dt.predict(xtest)"
   ]
  },
  {
   "cell_type": "code",
   "execution_count": 24,
   "id": "deba3f58",
   "metadata": {},
   "outputs": [
    {
     "data": {
      "text/plain": [
       "array([1, 0, 0, 1, 0, 0, 0, 1, 0, 0, 0, 0, 0, 0, 1, 0, 0, 0, 1, 0, 0, 0,\n",
       "       1, 1, 1, 0, 0, 0, 0, 0, 1, 0, 1, 1, 1, 0, 0, 0, 0, 0, 1, 0, 0, 0,\n",
       "       1, 0, 1, 0, 0, 0, 1, 0, 0, 0, 0, 0, 0, 1, 0, 1, 1, 1, 0, 0, 1, 1,\n",
       "       0, 1, 0, 0, 0, 0, 0, 0, 1, 0, 0, 1, 1, 0, 0, 0, 0, 0, 0, 0, 0, 0,\n",
       "       0, 1], dtype=int64)"
      ]
     },
     "execution_count": 24,
     "metadata": {},
     "output_type": "execute_result"
    }
   ],
   "source": [
    "pred"
   ]
  },
  {
   "cell_type": "code",
   "execution_count": 25,
   "id": "86468d9a",
   "metadata": {},
   "outputs": [
    {
     "data": {
      "text/plain": [
       "array([[0],\n",
       "       [0],\n",
       "       [1],\n",
       "       [1],\n",
       "       [0],\n",
       "       [0],\n",
       "       [1],\n",
       "       [0],\n",
       "       [1],\n",
       "       [0],\n",
       "       [0],\n",
       "       [1],\n",
       "       [1],\n",
       "       [0],\n",
       "       [0],\n",
       "       [1],\n",
       "       [0],\n",
       "       [0],\n",
       "       [1],\n",
       "       [1],\n",
       "       [0],\n",
       "       [0],\n",
       "       [0],\n",
       "       [1],\n",
       "       [1],\n",
       "       [0],\n",
       "       [0],\n",
       "       [0],\n",
       "       [1],\n",
       "       [0],\n",
       "       [1],\n",
       "       [0],\n",
       "       [0],\n",
       "       [1],\n",
       "       [1],\n",
       "       [1],\n",
       "       [1],\n",
       "       [1],\n",
       "       [0],\n",
       "       [0],\n",
       "       [1],\n",
       "       [1],\n",
       "       [0],\n",
       "       [0],\n",
       "       [0],\n",
       "       [0],\n",
       "       [0],\n",
       "       [0],\n",
       "       [0],\n",
       "       [0],\n",
       "       [1],\n",
       "       [1],\n",
       "       [1],\n",
       "       [0],\n",
       "       [0],\n",
       "       [0],\n",
       "       [0],\n",
       "       [1],\n",
       "       [0],\n",
       "       [1],\n",
       "       [1],\n",
       "       [1],\n",
       "       [1],\n",
       "       [0],\n",
       "       [1],\n",
       "       [1],\n",
       "       [0],\n",
       "       [0],\n",
       "       [0],\n",
       "       [0],\n",
       "       [1],\n",
       "       [0],\n",
       "       [0],\n",
       "       [0],\n",
       "       [0],\n",
       "       [0],\n",
       "       [0],\n",
       "       [1],\n",
       "       [0],\n",
       "       [0],\n",
       "       [1],\n",
       "       [1],\n",
       "       [0],\n",
       "       [0],\n",
       "       [0],\n",
       "       [0],\n",
       "       [1],\n",
       "       [1],\n",
       "       [1],\n",
       "       [0]], dtype=int64)"
      ]
     },
     "execution_count": 25,
     "metadata": {},
     "output_type": "execute_result"
    }
   ],
   "source": [
    "np.array(ytest)"
   ]
  },
  {
   "cell_type": "markdown",
   "id": "ab0ed9ec",
   "metadata": {},
   "source": [
    "# Confusion Matrix"
   ]
  },
  {
   "cell_type": "code",
   "execution_count": 26,
   "id": "8077afda",
   "metadata": {},
   "outputs": [
    {
     "data": {
      "text/plain": [
       "'              precision    recall  f1-score   support\\n\\n           0       0.67      0.79      0.72        53\\n           1       0.59      0.43      0.50        37\\n\\n    accuracy                           0.64        90\\n   macro avg       0.63      0.61      0.61        90\\nweighted avg       0.64      0.64      0.63        90\\n'"
      ]
     },
     "execution_count": 26,
     "metadata": {},
     "output_type": "execute_result"
    }
   ],
   "source": [
    "classification_report(ytest,pred)"
   ]
  },
  {
   "cell_type": "code",
   "execution_count": 27,
   "id": "448e5a2a",
   "metadata": {},
   "outputs": [
    {
     "name": "stdout",
     "output_type": "stream",
     "text": [
      "              precision    recall  f1-score   support\n",
      "\n",
      "           0       0.67      0.79      0.72        53\n",
      "           1       0.59      0.43      0.50        37\n",
      "\n",
      "    accuracy                           0.64        90\n",
      "   macro avg       0.63      0.61      0.61        90\n",
      "weighted avg       0.64      0.64      0.63        90\n",
      "\n"
     ]
    }
   ],
   "source": [
    "print(classification_report(ytest,pred))"
   ]
  },
  {
   "cell_type": "code",
   "execution_count": 28,
   "id": "ad6b8f54",
   "metadata": {},
   "outputs": [],
   "source": [
    "cm = confusion_matrix(ytest,pred)"
   ]
  },
  {
   "cell_type": "code",
   "execution_count": 29,
   "id": "b8687eb1",
   "metadata": {},
   "outputs": [
    {
     "data": {
      "text/plain": [
       "array([[42, 11],\n",
       "       [21, 16]], dtype=int64)"
      ]
     },
     "execution_count": 29,
     "metadata": {},
     "output_type": "execute_result"
    }
   ],
   "source": [
    "cm"
   ]
  },
  {
   "cell_type": "code",
   "execution_count": 30,
   "id": "90037c7e",
   "metadata": {},
   "outputs": [
    {
     "data": {
      "text/plain": [
       "Text(0.5, 1.0, 'confusion matrix')"
      ]
     },
     "execution_count": 30,
     "metadata": {},
     "output_type": "execute_result"
    },
    {
     "data": {
      "image/png": "[encoded data removed]",
      "text/plain": [
       "<Figure size 432x288 with 2 Axes>"
      ]
     },
     "metadata": {
      "needs_background": "light"
     },
     "output_type": "display_data"
    }
   ],
   "source": [
    "sns.heatmap(cm,annot=True)\n",
    "plt.xlabel('Predicted Result')\n",
    "plt.ylabel('Actual values')\n",
    "plt.title('confusion matrix')"
   ]
  },
  {
   "cell_type": "code",
   "execution_count": 31,
   "id": "e92a765c",
   "metadata": {},
   "outputs": [],
   "source": [
    "tp,fn,fp,tn = confusion_matrix(ytest,pred).reshape(-1)"
   ]
  },
  {
   "cell_type": "code",
   "execution_count": 32,
   "id": "31267404",
   "metadata": {},
   "outputs": [
    {
     "data": {
      "text/plain": [
       "42"
      ]
     },
     "execution_count": 32,
     "metadata": {},
     "output_type": "execute_result"
    }
   ],
   "source": [
    "tp"
   ]
  },
  {
   "cell_type": "code",
   "execution_count": 33,
   "id": "fda00906",
   "metadata": {},
   "outputs": [
    {
     "data": {
      "text/plain": [
       "11"
      ]
     },
     "execution_count": 33,
     "metadata": {},
     "output_type": "execute_result"
    }
   ],
   "source": [
    "fn"
   ]
  },
  {
   "cell_type": "code",
   "execution_count": 34,
   "id": "9eb83a00",
   "metadata": {},
   "outputs": [
    {
     "data": {
      "text/plain": [
       "21"
      ]
     },
     "execution_count": 34,
     "metadata": {},
     "output_type": "execute_result"
    }
   ],
   "source": [
    "fp"
   ]
  },
  {
   "cell_type": "code",
   "execution_count": 35,
   "id": "264bf8f6",
   "metadata": {},
   "outputs": [
    {
     "data": {
      "text/plain": [
       "16"
      ]
     },
     "execution_count": 35,
     "metadata": {},
     "output_type": "execute_result"
    }
   ],
   "source": [
    "tn"
   ]
  },
  {
   "cell_type": "code",
   "execution_count": 36,
   "id": "64f815b6",
   "metadata": {},
   "outputs": [],
   "source": [
    "accuracy = (tp+tn)/(tp+fp+fn+tn)"
   ]
  },
  {
   "cell_type": "code",
   "execution_count": 37,
   "id": "0717cf19",
   "metadata": {},
   "outputs": [
    {
     "data": {
      "text/plain": [
       "0.6444444444444445"
      ]
     },
     "execution_count": 37,
     "metadata": {},
     "output_type": "execute_result"
    }
   ],
   "source": [
    "accuracy"
   ]
  },
  {
   "cell_type": "code",
   "execution_count": 38,
   "id": "54f07afc",
   "metadata": {},
   "outputs": [],
   "source": [
    "precision = tp/(tp+fp)"
   ]
  },
  {
   "cell_type": "code",
   "execution_count": 39,
   "id": "e632d6cb",
   "metadata": {},
   "outputs": [
    {
     "data": {
      "text/plain": [
       "0.6666666666666666"
      ]
     },
     "execution_count": 39,
     "metadata": {},
     "output_type": "execute_result"
    }
   ],
   "source": [
    "precision"
   ]
  },
  {
   "cell_type": "code",
   "execution_count": 40,
   "id": "07759bc0",
   "metadata": {},
   "outputs": [
    {
     "data": {
      "text/plain": [
       "<sklearn.metrics._plot.roc_curve.RocCurveDisplay at 0x1cfc1ed1060>"
      ]
     },
     "execution_count": 40,
     "metadata": {},
     "output_type": "execute_result"
    },
    {
     "data": {
      "image/png": "[encoded data removed]",
      "text/plain": [
       "<Figure size 432x288 with 1 Axes>"
      ]
     },
     "metadata": {
      "needs_background": "light"
     },
     "output_type": "display_data"
    }
   ],
   "source": [
    "from sklearn.metrics import plot_roc_curve as pc\n",
    "pc(dt,xtest,ytest)"
   ]
  },
  {
   "cell_type": "code",
   "execution_count": 43,
   "id": "1e663b6d",
   "metadata": {},
   "outputs": [
    {
     "data": {
      "text/plain": [
       "0.6444444444444445"
      ]
     },
     "execution_count": 43,
     "metadata": {},
     "output_type": "execute_result"
    }
   ],
   "source": [
    "accuracy_score(ytest,pred)"
   ]
  },
  {
   "cell_type": "code",
   "execution_count": 44,
   "id": "bf233612",
   "metadata": {},
   "outputs": [
    {
     "data": {
      "text/plain": [
       "0.6444444444444445"
      ]
     },
     "execution_count": 44,
     "metadata": {},
     "output_type": "execute_result"
    }
   ],
   "source": [
    "dt.score(xtest,ytest)"
   ]
  },
  {
   "cell_type": "markdown",
   "id": "979208ee",
   "metadata": {},
   "source": [
    "# Random Forest Classifier"
   ]
  },
  {
   "cell_type": "code",
   "execution_count": 82,
   "id": "777ca2e6",
   "metadata": {},
   "outputs": [],
   "source": [
    "from sklearn.ensemble import RandomForestClassifier"
   ]
  },
  {
   "cell_type": "code",
   "execution_count": 86,
   "id": "22ad8755",
   "metadata": {},
   "outputs": [
    {
     "data": {
      "text/plain": [
       "{'n_estimators': 135,\n",
       " 'min_samples_split': 3,\n",
       " 'max_features': 'log2',\n",
       " 'max_depth': 11,\n",
       " 'criterion': 'entropy'}"
      ]
     },
     "execution_count": 86,
     "metadata": {},
     "output_type": "execute_result"
    }
   ],
   "source": [
    "{'n_estimators': 135,\n",
    " 'min_samples_split': 3,\n",
    " 'max_features': 'log2',\n",
    " 'max_depth': 11,\n",
    " 'criterion': 'entropy'}"
   ]
  },
  {
   "cell_type": "code",
   "execution_count": 87,
   "id": "50784013",
   "metadata": {},
   "outputs": [],
   "source": [
    "rf = RandomForestClassifier(n_estimators=135,min_samples_split=3,max_depth=11,max_features='log2',criterion='entropy')"
   ]
  },
  {
   "cell_type": "code",
   "execution_count": 88,
   "id": "8083f4cf",
   "metadata": {},
   "outputs": [
    {
     "data": {
      "text/html": [
       "<style>#sk-container-id-13 {color: black;background-color: white;}#sk-container-id-13 pre{padding: 0;}#sk-container-id-13 div.sk-toggleable {background-color: white;}#sk-container-id-13 label.sk-toggleable__label {cursor: pointer;display: block;width: 100%;margin-bottom: 0;padding: 0.3em;box-sizing: border-box;text-align: center;}#sk-container-id-13 label.sk-toggleable__label-arrow:before {content: \"▸\";float: left;margin-right: 0.25em;color: #696969;}#sk-container-id-13 label.sk-toggleable__label-arrow:hover:before {color: black;}#sk-container-id-13 div.sk-estimator:hover label.sk-toggleable__label-arrow:before {color: black;}#sk-container-id-13 div.sk-toggleable__content {max-height: 0;max-width: 0;overflow: hidden;text-align: left;background-color: #f0f8ff;}#sk-container-id-13 div.sk-toggleable__content pre {margin: 0.2em;color: black;border-radius: 0.25em;background-color: #f0f8ff;}#sk-container-id-13 input.sk-toggleable__control:checked~div.sk-toggleable__content {max-height: 200px;max-width: 100%;overflow: auto;}#sk-container-id-13 input.sk-toggleable__control:checked~label.sk-toggleable__label-arrow:before {content: \"▾\";}#sk-container-id-13 div.sk-estimator input.sk-toggleable__control:checked~label.sk-toggleable__label {background-color: #d4ebff;}#sk-container-id-13 div.sk-label input.sk-toggleable__control:checked~label.sk-toggleable__label {background-color: #d4ebff;}#sk-container-id-13 input.sk-hidden--visually {border: 0;clip: rect(1px 1px 1px 1px);clip: rect(1px, 1px, 1px, 1px);height: 1px;margin: -1px;overflow: hidden;padding: 0;position: absolute;width: 1px;}#sk-container-id-13 div.sk-estimator {font-family: monospace;background-color: #f0f8ff;border: 1px dotted black;border-radius: 0.25em;box-sizing: border-box;margin-bottom: 0.5em;}#sk-container-id-13 div.sk-estimator:hover {background-color: #d4ebff;}#sk-container-id-13 div.sk-parallel-item::after {content: \"\";width: 100%;border-bottom: 1px solid gray;flex-grow: 1;}#sk-container-id-13 div.sk-label:hover label.sk-toggleable__label {background-color: #d4ebff;}#sk-container-id-13 div.sk-serial::before {content: \"\";position: absolute;border-left: 1px solid gray;box-sizing: border-box;top: 0;bottom: 0;left: 50%;z-index: 0;}#sk-container-id-13 div.sk-serial {display: flex;flex-direction: column;align-items: center;background-color: white;padding-right: 0.2em;padding-left: 0.2em;position: relative;}#sk-container-id-13 div.sk-item {position: relative;z-index: 1;}#sk-container-id-13 div.sk-parallel {display: flex;align-items: stretch;justify-content: center;background-color: white;position: relative;}#sk-container-id-13 div.sk-item::before, #sk-container-id-13 div.sk-parallel-item::before {content: \"\";position: absolute;border-left: 1px solid gray;box-sizing: border-box;top: 0;bottom: 0;left: 50%;z-index: -1;}#sk-container-id-13 div.sk-parallel-item {display: flex;flex-direction: column;z-index: 1;position: relative;background-color: white;}#sk-container-id-13 div.sk-parallel-item:first-child::after {align-self: flex-end;width: 50%;}#sk-container-id-13 div.sk-parallel-item:last-child::after {align-self: flex-start;width: 50%;}#sk-container-id-13 div.sk-parallel-item:only-child::after {width: 0;}#sk-container-id-13 div.sk-dashed-wrapped {border: 1px dashed gray;margin: 0 0.4em 0.5em 0.4em;box-sizing: border-box;padding-bottom: 0.4em;background-color: white;}#sk-container-id-13 div.sk-label label {font-family: monospace;font-weight: bold;display: inline-block;line-height: 1.2em;}#sk-container-id-13 div.sk-label-container {text-align: center;}#sk-container-id-13 div.sk-container {/* jupyter's `normalize.less` sets `[hidden] { display: none; }` but bootstrap.min.css set `[hidden] { display: none !important; }` so we also need the `!important` here to be able to override the default hidden behavior on the sphinx rendered scikit-learn.org. See: https://github.com/scikit-learn/scikit-learn/issues/21755 */display: inline-block !important;position: relative;}#sk-container-id-13 div.sk-text-repr-fallback {display: none;}</style><div id=\"sk-container-id-13\" class=\"sk-top-container\"><div class=\"sk-text-repr-fallback\"><pre>RandomForestClassifier(criterion=&#x27;entropy&#x27;, max_depth=11, max_features=&#x27;log2&#x27;,\n",
       "                       min_samples_split=3, n_estimators=135)</pre><b>In a Jupyter environment, please rerun this cell to show the HTML representation or trust the notebook. <br />On GitHub, the HTML representation is unable to render, please try loading this page with nbviewer.org.</b></div><div class=\"sk-container\" hidden><div class=\"sk-item\"><div class=\"sk-estimator sk-toggleable\"><input class=\"sk-toggleable__control sk-hidden--visually\" id=\"sk-estimator-id-15\" type=\"checkbox\" checked><label for=\"sk-estimator-id-15\" class=\"sk-toggleable__label sk-toggleable__label-arrow\">RandomForestClassifier</label><div class=\"sk-toggleable__content\"><pre>RandomForestClassifier(criterion=&#x27;entropy&#x27;, max_depth=11, max_features=&#x27;log2&#x27;,\n",
       "                       min_samples_split=3, n_estimators=135)</pre></div></div></div></div></div>"
      ],
      "text/plain": [
       "RandomForestClassifier(criterion='entropy', max_depth=11, max_features='log2',\n",
       "                       min_samples_split=3, n_estimators=135)"
      ]
     },
     "execution_count": 88,
     "metadata": {},
     "output_type": "execute_result"
    }
   ],
   "source": [
    "rf.fit(xtrain,ytrain)"
   ]
  },
  {
   "cell_type": "code",
   "execution_count": null,
   "id": "8643ebda",
   "metadata": {},
   "outputs": [],
   "source": []
  },
  {
   "cell_type": "code",
   "execution_count": 89,
   "id": "ca2a2f9e",
   "metadata": {},
   "outputs": [
    {
     "data": {
      "text/plain": [
       "0.7666666666666667"
      ]
     },
     "execution_count": 89,
     "metadata": {},
     "output_type": "execute_result"
    }
   ],
   "source": [
    "rf.score(xtest,ytest)"
   ]
  },
  {
   "cell_type": "markdown",
   "id": "99b2792e",
   "metadata": {},
   "source": [
    "# Random Search CV"
   ]
  },
  {
   "cell_type": "code",
   "execution_count": 50,
   "id": "88c3b29e",
   "metadata": {},
   "outputs": [],
   "source": [
    "from sklearn.model_selection import RandomizedSearchCV"
   ]
  },
  {
   "cell_type": "code",
   "execution_count": 51,
   "id": "78a1f7d3",
   "metadata": {},
   "outputs": [],
   "source": [
    "tree = np.random.randint(15,150,30) #15 theke 150 er moddhe 30 ta tree generate korbe"
   ]
  },
  {
   "cell_type": "code",
   "execution_count": 52,
   "id": "d784687c",
   "metadata": {},
   "outputs": [
    {
     "data": {
      "text/plain": [
       "array([109, 142,  88, 103,  64,  20,  85, 147,  65,  71, 134,  32, 131,\n",
       "        69,  38,  27,  67,  96, 101,  24, 145, 116,  29,  33, 135,  18,\n",
       "       123,  48, 122,  21])"
      ]
     },
     "execution_count": 52,
     "metadata": {},
     "output_type": "execute_result"
    }
   ],
   "source": [
    "tree"
   ]
  },
  {
   "cell_type": "code",
   "execution_count": 54,
   "id": "4b2ab828",
   "metadata": {},
   "outputs": [],
   "source": [
    "max_features = ['sqrt','log2']\n",
    "max_depth = np.random.randint(2,12,50)\n",
    "criterion = ['gini','entropy']\n",
    "min_samples_split = [2,3,4]\n",
    "\n",
    "grid = {\n",
    "    \n",
    "    'n_estimators' : tree,\n",
    "    'criterion' : criterion,\n",
    "    'max_features' : max_features,\n",
    "    'max_depth' : max_depth,\n",
    "    'min_samples_split' : min_samples_split\n",
    "    \n",
    "}\n"
   ]
  },
  {
   "cell_type": "code",
   "execution_count": 55,
   "id": "383d92d7",
   "metadata": {},
   "outputs": [
    {
     "name": "stdout",
     "output_type": "stream",
     "text": [
      "{'n_estimators': array([109, 142,  88, 103,  64,  20,  85, 147,  65,  71, 134,  32, 131,\n",
      "        69,  38,  27,  67,  96, 101,  24, 145, 116,  29,  33, 135,  18,\n",
      "       123,  48, 122,  21]), 'criterion': ['gini', 'entropy'], 'max_features': ['sqrt', 'log2'], 'max_depth': array([10,  9,  9,  8,  4,  3,  4,  2,  3,  7,  3,  5, 11,  5,  3,  9,  5,\n",
      "        7,  5, 10,  6,  9,  8, 11,  2,  8,  7,  8, 11, 11,  6,  3,  6,  4,\n",
      "        5,  2,  9,  4,  9,  3,  9,  4,  8,  8,  7,  9,  7,  8,  3,  3]), 'min_samples_split': [2, 3, 4]}\n"
     ]
    }
   ],
   "source": [
    "print(grid)"
   ]
  },
  {
   "cell_type": "code",
   "execution_count": 56,
   "id": "65319471",
   "metadata": {},
   "outputs": [],
   "source": [
    "rcv = RandomizedSearchCV(rf,grid,n_iter=100,cv=3)"
   ]
  },
  {
   "cell_type": "code",
   "execution_count": 57,
   "id": "27f22fe4",
   "metadata": {},
   "outputs": [
    {
     "data": {
      "text/html": [
       "<style>#sk-container-id-3 {color: black;background-color: white;}#sk-container-id-3 pre{padding: 0;}#sk-container-id-3 div.sk-toggleable {background-color: white;}#sk-container-id-3 label.sk-toggleable__label {cursor: pointer;display: block;width: 100%;margin-bottom: 0;padding: 0.3em;box-sizing: border-box;text-align: center;}#sk-container-id-3 label.sk-toggleable__label-arrow:before {content: \"▸\";float: left;margin-right: 0.25em;color: #696969;}#sk-container-id-3 label.sk-toggleable__label-arrow:hover:before {color: black;}#sk-container-id-3 div.sk-estimator:hover label.sk-toggleable__label-arrow:before {color: black;}#sk-container-id-3 div.sk-toggleable__content {max-height: 0;max-width: 0;overflow: hidden;text-align: left;background-color: #f0f8ff;}#sk-container-id-3 div.sk-toggleable__content pre {margin: 0.2em;color: black;border-radius: 0.25em;background-color: #f0f8ff;}#sk-container-id-3 input.sk-toggleable__control:checked~div.sk-toggleable__content {max-height: 200px;max-width: 100%;overflow: auto;}#sk-container-id-3 input.sk-toggleable__control:checked~label.sk-toggleable__label-arrow:before {content: \"▾\";}#sk-container-id-3 div.sk-estimator input.sk-toggleable__control:checked~label.sk-toggleable__label {background-color: #d4ebff;}#sk-container-id-3 div.sk-label input.sk-toggleable__control:checked~label.sk-toggleable__label {background-color: #d4ebff;}#sk-container-id-3 input.sk-hidden--visually {border: 0;clip: rect(1px 1px 1px 1px);clip: rect(1px, 1px, 1px, 1px);height: 1px;margin: -1px;overflow: hidden;padding: 0;position: absolute;width: 1px;}#sk-container-id-3 div.sk-estimator {font-family: monospace;background-color: #f0f8ff;border: 1px dotted black;border-radius: 0.25em;box-sizing: border-box;margin-bottom: 0.5em;}#sk-container-id-3 div.sk-estimator:hover {background-color: #d4ebff;}#sk-container-id-3 div.sk-parallel-item::after {content: \"\";width: 100%;border-bottom: 1px solid gray;flex-grow: 1;}#sk-container-id-3 div.sk-label:hover label.sk-toggleable__label {background-color: #d4ebff;}#sk-container-id-3 div.sk-serial::before {content: \"\";position: absolute;border-left: 1px solid gray;box-sizing: border-box;top: 0;bottom: 0;left: 50%;z-index: 0;}#sk-container-id-3 div.sk-serial {display: flex;flex-direction: column;align-items: center;background-color: white;padding-right: 0.2em;padding-left: 0.2em;position: relative;}#sk-container-id-3 div.sk-item {position: relative;z-index: 1;}#sk-container-id-3 div.sk-parallel {display: flex;align-items: stretch;justify-content: center;background-color: white;position: relative;}#sk-container-id-3 div.sk-item::before, #sk-container-id-3 div.sk-parallel-item::before {content: \"\";position: absolute;border-left: 1px solid gray;box-sizing: border-box;top: 0;bottom: 0;left: 50%;z-index: -1;}#sk-container-id-3 div.sk-parallel-item {display: flex;flex-direction: column;z-index: 1;position: relative;background-color: white;}#sk-container-id-3 div.sk-parallel-item:first-child::after {align-self: flex-end;width: 50%;}#sk-container-id-3 div.sk-parallel-item:last-child::after {align-self: flex-start;width: 50%;}#sk-container-id-3 div.sk-parallel-item:only-child::after {width: 0;}#sk-container-id-3 div.sk-dashed-wrapped {border: 1px dashed gray;margin: 0 0.4em 0.5em 0.4em;box-sizing: border-box;padding-bottom: 0.4em;background-color: white;}#sk-container-id-3 div.sk-label label {font-family: monospace;font-weight: bold;display: inline-block;line-height: 1.2em;}#sk-container-id-3 div.sk-label-container {text-align: center;}#sk-container-id-3 div.sk-container {/* jupyter's `normalize.less` sets `[hidden] { display: none; }` but bootstrap.min.css set `[hidden] { display: none !important; }` so we also need the `!important` here to be able to override the default hidden behavior on the sphinx rendered scikit-learn.org. See: https://github.com/scikit-learn/scikit-learn/issues/21755 */display: inline-block !important;position: relative;}#sk-container-id-3 div.sk-text-repr-fallback {display: none;}</style><div id=\"sk-container-id-3\" class=\"sk-top-container\"><div class=\"sk-text-repr-fallback\"><pre>RandomizedSearchCV(cv=3, estimator=RandomForestClassifier(), n_iter=100,\n",
       "                   param_distributions={&#x27;criterion&#x27;: [&#x27;gini&#x27;, &#x27;entropy&#x27;],\n",
       "                                        &#x27;max_depth&#x27;: array([10,  9,  9,  8,  4,  3,  4,  2,  3,  7,  3,  5, 11,  5,  3,  9,  5,\n",
       "        7,  5, 10,  6,  9,  8, 11,  2,  8,  7,  8, 11, 11,  6,  3,  6,  4,\n",
       "        5,  2,  9,  4,  9,  3,  9,  4,  8,  8,  7,  9,  7,  8,  3,  3]),\n",
       "                                        &#x27;max_features&#x27;: [&#x27;sqrt&#x27;, &#x27;log2&#x27;],\n",
       "                                        &#x27;min_samples_split&#x27;: [2, 3, 4],\n",
       "                                        &#x27;n_estimators&#x27;: array([109, 142,  88, 103,  64,  20,  85, 147,  65,  71, 134,  32, 131,\n",
       "        69,  38,  27,  67,  96, 101,  24, 145, 116,  29,  33, 135,  18,\n",
       "       123,  48, 122,  21])})</pre><b>In a Jupyter environment, please rerun this cell to show the HTML representation or trust the notebook. <br />On GitHub, the HTML representation is unable to render, please try loading this page with nbviewer.org.</b></div><div class=\"sk-container\" hidden><div class=\"sk-item sk-dashed-wrapped\"><div class=\"sk-label-container\"><div class=\"sk-label sk-toggleable\"><input class=\"sk-toggleable__control sk-hidden--visually\" id=\"sk-estimator-id-3\" type=\"checkbox\" ><label for=\"sk-estimator-id-3\" class=\"sk-toggleable__label sk-toggleable__label-arrow\">RandomizedSearchCV</label><div class=\"sk-toggleable__content\"><pre>RandomizedSearchCV(cv=3, estimator=RandomForestClassifier(), n_iter=100,\n",
       "                   param_distributions={&#x27;criterion&#x27;: [&#x27;gini&#x27;, &#x27;entropy&#x27;],\n",
       "                                        &#x27;max_depth&#x27;: array([10,  9,  9,  8,  4,  3,  4,  2,  3,  7,  3,  5, 11,  5,  3,  9,  5,\n",
       "        7,  5, 10,  6,  9,  8, 11,  2,  8,  7,  8, 11, 11,  6,  3,  6,  4,\n",
       "        5,  2,  9,  4,  9,  3,  9,  4,  8,  8,  7,  9,  7,  8,  3,  3]),\n",
       "                                        &#x27;max_features&#x27;: [&#x27;sqrt&#x27;, &#x27;log2&#x27;],\n",
       "                                        &#x27;min_samples_split&#x27;: [2, 3, 4],\n",
       "                                        &#x27;n_estimators&#x27;: array([109, 142,  88, 103,  64,  20,  85, 147,  65,  71, 134,  32, 131,\n",
       "        69,  38,  27,  67,  96, 101,  24, 145, 116,  29,  33, 135,  18,\n",
       "       123,  48, 122,  21])})</pre></div></div></div><div class=\"sk-parallel\"><div class=\"sk-parallel-item\"><div class=\"sk-item\"><div class=\"sk-label-container\"><div class=\"sk-label sk-toggleable\"><input class=\"sk-toggleable__control sk-hidden--visually\" id=\"sk-estimator-id-4\" type=\"checkbox\" ><label for=\"sk-estimator-id-4\" class=\"sk-toggleable__label sk-toggleable__label-arrow\">estimator: RandomForestClassifier</label><div class=\"sk-toggleable__content\"><pre>RandomForestClassifier()</pre></div></div></div><div class=\"sk-serial\"><div class=\"sk-item\"><div class=\"sk-estimator sk-toggleable\"><input class=\"sk-toggleable__control sk-hidden--visually\" id=\"sk-estimator-id-5\" type=\"checkbox\" ><label for=\"sk-estimator-id-5\" class=\"sk-toggleable__label sk-toggleable__label-arrow\">RandomForestClassifier</label><div class=\"sk-toggleable__content\"><pre>RandomForestClassifier()</pre></div></div></div></div></div></div></div></div></div></div>"
      ],
      "text/plain": [
       "RandomizedSearchCV(cv=3, estimator=RandomForestClassifier(), n_iter=100,\n",
       "                   param_distributions={'criterion': ['gini', 'entropy'],\n",
       "                                        'max_depth': array([10,  9,  9,  8,  4,  3,  4,  2,  3,  7,  3,  5, 11,  5,  3,  9,  5,\n",
       "        7,  5, 10,  6,  9,  8, 11,  2,  8,  7,  8, 11, 11,  6,  3,  6,  4,\n",
       "        5,  2,  9,  4,  9,  3,  9,  4,  8,  8,  7,  9,  7,  8,  3,  3]),\n",
       "                                        'max_features': ['sqrt', 'log2'],\n",
       "                                        'min_samples_split': [2, 3, 4],\n",
       "                                        'n_estimators': array([109, 142,  88, 103,  64,  20,  85, 147,  65,  71, 134,  32, 131,\n",
       "        69,  38,  27,  67,  96, 101,  24, 145, 116,  29,  33, 135,  18,\n",
       "       123,  48, 122,  21])})"
      ]
     },
     "execution_count": 57,
     "metadata": {},
     "output_type": "execute_result"
    }
   ],
   "source": [
    "rcv.fit(xtrain,ytrain)"
   ]
  },
  {
   "cell_type": "code",
   "execution_count": 58,
   "id": "16056619",
   "metadata": {},
   "outputs": [
    {
     "data": {
      "text/plain": [
       "{'mean_fit_time': array([0.2746013 , 0.08474477, 0.06062841, 0.24001614, 0.18075395,\n",
       "        0.04561973, 0.18122768, 0.12641239, 0.16828378, 0.06528966,\n",
       "        0.05696599, 0.05396136, 0.22889241, 0.25352256, 0.03765138,\n",
       "        0.1735603 , 0.31282147, 0.04631273, 0.22421336, 0.03298322,\n",
       "        0.08093731, 0.05667114, 0.3043824 , 0.17790445, 0.06929874,\n",
       "        0.27006984, 0.16202188, 0.03730655, 0.14526558, 0.14159004,\n",
       "        0.16986283, 0.12958892, 0.04385694, 0.12925744, 0.04896386,\n",
       "        0.04630566, 0.08670092, 0.08253614, 0.25885765, 0.17569431,\n",
       "        0.21622109, 0.05697664, 0.12995021, 0.192916  , 0.12435476,\n",
       "        0.18023658, 0.09995214, 0.27309934, 0.2507054 , 0.1203862 ,\n",
       "        0.11328252, 0.06063573, 0.11978197, 0.18490283, 0.20992374,\n",
       "        0.0579838 , 0.05897482, 0.04664334, 0.24038514, 0.11161947,\n",
       "        0.22300299, 0.35499501, 0.05985419, 0.14990624, 0.17956305,\n",
       "        0.17423312, 0.03731155, 0.04164433, 0.07029279, 0.13592744,\n",
       "        0.04031142, 0.13060252, 0.25620508, 0.05413802, 0.30150851,\n",
       "        0.09796119, 0.10838485, 0.03782463, 0.06396325, 0.22317211,\n",
       "        0.20810294, 0.62513145, 0.11193713, 0.14224935, 0.33953452,\n",
       "        0.08648682, 0.06662655, 0.15825796, 0.05464609, 0.13753907,\n",
       "        0.06630174, 0.23545575, 0.11360852, 0.11260867, 0.05530286,\n",
       "        0.20241729, 0.04790378, 0.11926142, 0.03064863, 0.22886896]),\n",
       " 'std_fit_time': array([0.04331552, 0.00934252, 0.00479416, 0.00818731, 0.00181035,\n",
       "        0.00578789, 0.01158517, 0.00880642, 0.00612308, 0.00556145,\n",
       "        0.0045419 , 0.00140303, 0.00908693, 0.03066754, 0.00801914,\n",
       "        0.01115515, 0.02134147, 0.00491889, 0.02160742, 0.00141552,\n",
       "        0.0480537 , 0.00828102, 0.03154001, 0.01433926, 0.00497948,\n",
       "        0.014422  , 0.01685253, 0.00170792, 0.00125663, 0.00329827,\n",
       "        0.01029502, 0.01326739, 0.00492617, 0.00735831, 0.00571529,\n",
       "        0.00310389, 0.01431803, 0.01017746, 0.15601418, 0.00355219,\n",
       "        0.00850869, 0.00142279, 0.0080558 , 0.00453262, 0.0026014 ,\n",
       "        0.01254542, 0.01757436, 0.04679821, 0.0081104 , 0.00332623,\n",
       "        0.00366647, 0.00124881, 0.00433419, 0.00247227, 0.00327705,\n",
       "        0.00283933, 0.00432485, 0.00463853, 0.00613788, 0.00531932,\n",
       "        0.02996545, 0.15401062, 0.0035941 , 0.01133062, 0.00387047,\n",
       "        0.00784056, 0.00205079, 0.00188599, 0.00263774, 0.01393065,\n",
       "        0.00169762, 0.009416  , 0.02242909, 0.00165064, 0.04447177,\n",
       "        0.01201012, 0.0634758 , 0.00021815, 0.001632  , 0.00380958,\n",
       "        0.02104724, 0.13286288, 0.01185543, 0.0204081 , 0.02814533,\n",
       "        0.02724667, 0.00805269, 0.06622368, 0.00449268, 0.02322566,\n",
       "        0.00170164, 0.0039023 , 0.00329683, 0.00525927, 0.00169759,\n",
       "        0.0074699 , 0.0013165 , 0.00169485, 0.00124603, 0.00141293]),\n",
       " 'mean_score_time': array([0.02132026, 0.00732907, 0.00599647, 0.0210197 , 0.01698335,\n",
       "        0.00601133, 0.01835791, 0.01166805, 0.01433531, 0.00667032,\n",
       "        0.00566936, 0.00633677, 0.01831555, 0.02032026, 0.0053308 ,\n",
       "        0.02032304, 0.02313455, 0.00566371, 0.01698534, 0.0040044 ,\n",
       "        0.00832939, 0.00566459, 0.02982124, 0.01366178, 0.00733709,\n",
       "        0.0196623 , 0.01366576, 0.00666189, 0.01265669, 0.01232743,\n",
       "        0.01431243, 0.01332744, 0.00632977, 0.01299278, 0.00567007,\n",
       "        0.00566419, 0.007996  , 0.01066049, 0.01474055, 0.01432459,\n",
       "        0.01732969, 0.0066634 , 0.0116601 , 0.01566553, 0.01065898,\n",
       "        0.01498397, 0.01932311, 0.02132225, 0.01966063, 0.01100095,\n",
       "        0.01032631, 0.00666094, 0.01165271, 0.0156649 , 0.01648474,\n",
       "        0.00665768, 0.00665577, 0.00533565, 0.02264619, 0.00932765,\n",
       "        0.0156579 , 0.02098791, 0.00599623, 0.01366647, 0.0146602 ,\n",
       "        0.01490084, 0.00499773, 0.00499614, 0.0073367 , 0.01197966,\n",
       "        0.00566204, 0.01131988, 0.01998997, 0.00632985, 0.02331861,\n",
       "        0.00832144, 0.00798925, 0.00566228, 0.01065969, 0.01831516,\n",
       "        0.0173231 , 0.04630725, 0.01465631, 0.01632396, 0.02665361,\n",
       "        0.0169905 , 0.00707936, 0.01032869, 0.0063297 , 0.01032718,\n",
       "        0.00765634, 0.01865586, 0.01031915, 0.01032114, 0.00599519,\n",
       "        0.01734606, 0.00565799, 0.01032472, 0.00399772, 0.01832207]),\n",
       " 'std_score_time': array([1.24651284e-03, 4.70809040e-04, 3.37174788e-07, 4.21689307e-03,\n",
       "        2.81821994e-03, 1.40646952e-03, 5.48173791e-03, 4.77891643e-04,\n",
       "        9.39360212e-04, 4.76800652e-04, 9.38552919e-04, 4.81260854e-04,\n",
       "        4.55192999e-04, 1.25750105e-03, 4.70026532e-04, 6.82941570e-03,\n",
       "        3.48051692e-03, 1.69975263e-03, 8.12497084e-04, 1.07055576e-05,\n",
       "        1.88447025e-03, 9.45100951e-04, 3.52373429e-03, 4.75372462e-04,\n",
       "        4.68595609e-04, 1.69390521e-03, 4.57940396e-04, 2.34270538e-03,\n",
       "        4.64859046e-04, 4.71516609e-04, 4.82047909e-04, 2.05336652e-03,\n",
       "        4.69853319e-04, 2.92670217e-03, 4.61256589e-04, 9.42178770e-04,\n",
       "        1.41433597e-03, 3.85634167e-03, 3.01863629e-03, 1.24625796e-03,\n",
       "        9.47657859e-04, 4.57366729e-04, 4.70696044e-04, 1.24914622e-03,\n",
       "        9.40717679e-04, 1.41997786e-03, 1.40475854e-02, 4.18862609e-03,\n",
       "        1.24752291e-03, 1.63522250e-03, 4.86513245e-04, 9.42235554e-04,\n",
       "        9.49189269e-04, 4.61818094e-04, 3.99044094e-04, 9.47431603e-04,\n",
       "        4.66449375e-04, 4.67164372e-04, 2.34589393e-03, 4.86288500e-04,\n",
       "        4.70527507e-04, 1.63404291e-03, 1.16800773e-06, 1.25301450e-03,\n",
       "        4.72787522e-04, 7.09798988e-04, 8.24518345e-04, 9.98958356e-07,\n",
       "        4.68175756e-04, 1.63300523e-03, 9.42853601e-04, 1.25581135e-03,\n",
       "        1.63229581e-03, 4.71482745e-04, 9.43641467e-04, 4.60644453e-04,\n",
       "        8.73261727e-06, 4.71765984e-04, 3.29793094e-03, 4.75957748e-04,\n",
       "        3.39818047e-03, 1.32927878e-02, 1.69964638e-03, 6.94015205e-03,\n",
       "        4.49608052e-03, 7.86834020e-03, 1.53262825e-03, 4.73955360e-04,\n",
       "        4.56467478e-04, 1.24768123e-03, 4.67921391e-04, 4.70752452e-04,\n",
       "        4.74706991e-04, 4.61760965e-04, 1.29616312e-06, 1.26614259e-03,\n",
       "        4.68193321e-04, 4.83932319e-04, 2.97360213e-07, 4.71651423e-04]),\n",
       " 'param_n_estimators': masked_array(data=[142, 48, 32, 134, 101, 20, 96, 64, 96, 38, 29, 32, 131,\n",
       "                    142, 18, 85, 145, 21, 123, 18, 21, 20, 123, 64, 32,\n",
       "                    142, 88, 20, 85, 85, 88, 65, 20, 64, 21, 21, 38, 38,\n",
       "                    69, 103, 123, 32, 71, 116, 69, 96, 21, 116, 142, 67,\n",
       "                    64, 33, 69, 109, 122, 32, 33, 24, 147, 65, 116, 135,\n",
       "                    33, 85, 101, 96, 18, 21, 32, 67, 18, 71, 135, 33, 147,\n",
       "                    48, 18, 18, 29, 122, 96, 142, 27, 32, 142, 27, 29, 65,\n",
       "                    32, 67, 38, 145, 71, 67, 33, 122, 29, 71, 18, 142],\n",
       "              mask=[False, False, False, False, False, False, False, False,\n",
       "                    False, False, False, False, False, False, False, False,\n",
       "                    False, False, False, False, False, False, False, False,\n",
       "                    False, False, False, False, False, False, False, False,\n",
       "                    False, False, False, False, False, False, False, False,\n",
       "                    False, False, False, False, False, False, False, False,\n",
       "                    False, False, False, False, False, False, False, False,\n",
       "                    False, False, False, False, False, False, False, False,\n",
       "                    False, False, False, False, False, False, False, False,\n",
       "                    False, False, False, False, False, False, False, False,\n",
       "                    False, False, False, False, False, False, False, False,\n",
       "                    False, False, False, False, False, False, False, False,\n",
       "                    False, False, False, False],\n",
       "        fill_value='?',\n",
       "             dtype=object),\n",
       " 'param_min_samples_split': masked_array(data=[3, 3, 2, 2, 2, 4, 4, 3, 3, 4, 4, 4, 2, 2, 4, 3, 3, 3,\n",
       "                    4, 2, 2, 3, 3, 2, 3, 4, 4, 3, 3, 4, 2, 3, 4, 4, 4, 3,\n",
       "                    2, 3, 3, 2, 4, 4, 3, 3, 4, 3, 4, 2, 4, 4, 2, 3, 3, 3,\n",
       "                    2, 2, 2, 2, 2, 2, 3, 4, 4, 3, 2, 3, 4, 4, 3, 3, 2, 3,\n",
       "                    3, 2, 2, 2, 4, 3, 3, 3, 3, 3, 4, 2, 4, 4, 3, 3, 3, 4,\n",
       "                    4, 2, 2, 3, 2, 4, 3, 4, 3, 4],\n",
       "              mask=[False, False, False, False, False, False, False, False,\n",
       "                    False, False, False, False, False, False, False, False,\n",
       "                    False, False, False, False, False, False, False, False,\n",
       "                    False, False, False, False, False, False, False, False,\n",
       "                    False, False, False, False, False, False, False, False,\n",
       "                    False, False, False, False, False, False, False, False,\n",
       "                    False, False, False, False, False, False, False, False,\n",
       "                    False, False, False, False, False, False, False, False,\n",
       "                    False, False, False, False, False, False, False, False,\n",
       "                    False, False, False, False, False, False, False, False,\n",
       "                    False, False, False, False, False, False, False, False,\n",
       "                    False, False, False, False, False, False, False, False,\n",
       "                    False, False, False, False],\n",
       "        fill_value='?',\n",
       "             dtype=object),\n",
       " 'param_max_features': masked_array(data=['sqrt', 'sqrt', 'sqrt', 'log2', 'sqrt', 'log2', 'log2',\n",
       "                    'sqrt', 'sqrt', 'log2', 'log2', 'sqrt', 'sqrt', 'log2',\n",
       "                    'sqrt', 'log2', 'log2', 'log2', 'sqrt', 'sqrt', 'sqrt',\n",
       "                    'sqrt', 'sqrt', 'sqrt', 'sqrt', 'log2', 'log2', 'sqrt',\n",
       "                    'sqrt', 'log2', 'sqrt', 'log2', 'sqrt', 'sqrt', 'sqrt',\n",
       "                    'sqrt', 'log2', 'sqrt', 'sqrt', 'sqrt', 'log2', 'sqrt',\n",
       "                    'log2', 'log2', 'sqrt', 'log2', 'sqrt', 'sqrt', 'sqrt',\n",
       "                    'log2', 'sqrt', 'sqrt', 'log2', 'log2', 'log2', 'log2',\n",
       "                    'sqrt', 'sqrt', 'sqrt', 'sqrt', 'log2', 'log2', 'log2',\n",
       "                    'sqrt', 'log2', 'sqrt', 'sqrt', 'sqrt', 'sqrt', 'log2',\n",
       "                    'sqrt', 'log2', 'log2', 'log2', 'log2', 'log2', 'log2',\n",
       "                    'sqrt', 'sqrt', 'log2', 'log2', 'sqrt', 'sqrt', 'sqrt',\n",
       "                    'log2', 'log2', 'sqrt', 'sqrt', 'log2', 'sqrt', 'log2',\n",
       "                    'sqrt', 'log2', 'sqrt', 'log2', 'sqrt', 'log2', 'sqrt',\n",
       "                    'log2', 'log2'],\n",
       "              mask=[False, False, False, False, False, False, False, False,\n",
       "                    False, False, False, False, False, False, False, False,\n",
       "                    False, False, False, False, False, False, False, False,\n",
       "                    False, False, False, False, False, False, False, False,\n",
       "                    False, False, False, False, False, False, False, False,\n",
       "                    False, False, False, False, False, False, False, False,\n",
       "                    False, False, False, False, False, False, False, False,\n",
       "                    False, False, False, False, False, False, False, False,\n",
       "                    False, False, False, False, False, False, False, False,\n",
       "                    False, False, False, False, False, False, False, False,\n",
       "                    False, False, False, False, False, False, False, False,\n",
       "                    False, False, False, False, False, False, False, False,\n",
       "                    False, False, False, False],\n",
       "        fill_value='?',\n",
       "             dtype=object),\n",
       " 'param_max_depth': masked_array(data=[3, 2, 11, 11, 11, 11, 8, 6, 4, 3, 3, 7, 4, 3, 9, 7, 9,\n",
       "                    9, 9, 10, 4, 8, 3, 5, 3, 4, 3, 11, 5, 4, 4, 8, 3, 8, 9,\n",
       "                    9, 8, 3, 6, 3, 11, 7, 3, 3, 10, 9, 6, 5, 9, 10, 4, 9,\n",
       "                    8, 7, 10, 8, 5, 11, 3, 2, 4, 5, 8, 9, 9, 5, 6, 7, 9,\n",
       "                    10, 8, 2, 11, 3, 3, 9, 8, 4, 8, 4, 9, 3, 8, 3, 11, 7,\n",
       "                    4, 2, 7, 9, 5, 2, 4, 9, 7, 10, 3, 11, 3, 11],\n",
       "              mask=[False, False, False, False, False, False, False, False,\n",
       "                    False, False, False, False, False, False, False, False,\n",
       "                    False, False, False, False, False, False, False, False,\n",
       "                    False, False, False, False, False, False, False, False,\n",
       "                    False, False, False, False, False, False, False, False,\n",
       "                    False, False, False, False, False, False, False, False,\n",
       "                    False, False, False, False, False, False, False, False,\n",
       "                    False, False, False, False, False, False, False, False,\n",
       "                    False, False, False, False, False, False, False, False,\n",
       "                    False, False, False, False, False, False, False, False,\n",
       "                    False, False, False, False, False, False, False, False,\n",
       "                    False, False, False, False, False, False, False, False,\n",
       "                    False, False, False, False],\n",
       "        fill_value='?',\n",
       "             dtype=object),\n",
       " 'param_criterion': masked_array(data=['entropy', 'gini', 'entropy', 'entropy', 'entropy',\n",
       "                    'entropy', 'entropy', 'entropy', 'gini', 'gini',\n",
       "                    'gini', 'gini', 'gini', 'gini', 'gini', 'entropy',\n",
       "                    'gini', 'entropy', 'gini', 'gini', 'entropy', 'gini',\n",
       "                    'entropy', 'entropy', 'gini', 'entropy', 'entropy',\n",
       "                    'entropy', 'entropy', 'entropy', 'gini', 'entropy',\n",
       "                    'entropy', 'entropy', 'gini', 'entropy', 'entropy',\n",
       "                    'gini', 'entropy', 'gini', 'gini', 'entropy',\n",
       "                    'entropy', 'entropy', 'entropy', 'entropy', 'entropy',\n",
       "                    'gini', 'gini', 'entropy', 'entropy', 'gini', 'gini',\n",
       "                    'gini', 'gini', 'gini', 'entropy', 'entropy',\n",
       "                    'entropy', 'entropy', 'gini', 'entropy', 'entropy',\n",
       "                    'gini', 'entropy', 'gini', 'entropy', 'entropy',\n",
       "                    'gini', 'gini', 'gini', 'gini', 'entropy', 'entropy',\n",
       "                    'entropy', 'gini', 'entropy', 'entropy', 'gini',\n",
       "                    'gini', 'gini', 'gini', 'entropy', 'gini', 'entropy',\n",
       "                    'gini', 'gini', 'entropy', 'gini', 'entropy',\n",
       "                    'entropy', 'entropy', 'gini', 'entropy', 'gini',\n",
       "                    'entropy', 'gini', 'entropy', 'entropy', 'gini'],\n",
       "              mask=[False, False, False, False, False, False, False, False,\n",
       "                    False, False, False, False, False, False, False, False,\n",
       "                    False, False, False, False, False, False, False, False,\n",
       "                    False, False, False, False, False, False, False, False,\n",
       "                    False, False, False, False, False, False, False, False,\n",
       "                    False, False, False, False, False, False, False, False,\n",
       "                    False, False, False, False, False, False, False, False,\n",
       "                    False, False, False, False, False, False, False, False,\n",
       "                    False, False, False, False, False, False, False, False,\n",
       "                    False, False, False, False, False, False, False, False,\n",
       "                    False, False, False, False, False, False, False, False,\n",
       "                    False, False, False, False, False, False, False, False,\n",
       "                    False, False, False, False],\n",
       "        fill_value='?',\n",
       "             dtype=object),\n",
       " 'params': [{'n_estimators': 142,\n",
       "   'min_samples_split': 3,\n",
       "   'max_features': 'sqrt',\n",
       "   'max_depth': 3,\n",
       "   'criterion': 'entropy'},\n",
       "  {'n_estimators': 48,\n",
       "   'min_samples_split': 3,\n",
       "   'max_features': 'sqrt',\n",
       "   'max_depth': 2,\n",
       "   'criterion': 'gini'},\n",
       "  {'n_estimators': 32,\n",
       "   'min_samples_split': 2,\n",
       "   'max_features': 'sqrt',\n",
       "   'max_depth': 11,\n",
       "   'criterion': 'entropy'},\n",
       "  {'n_estimators': 134,\n",
       "   'min_samples_split': 2,\n",
       "   'max_features': 'log2',\n",
       "   'max_depth': 11,\n",
       "   'criterion': 'entropy'},\n",
       "  {'n_estimators': 101,\n",
       "   'min_samples_split': 2,\n",
       "   'max_features': 'sqrt',\n",
       "   'max_depth': 11,\n",
       "   'criterion': 'entropy'},\n",
       "  {'n_estimators': 20,\n",
       "   'min_samples_split': 4,\n",
       "   'max_features': 'log2',\n",
       "   'max_depth': 11,\n",
       "   'criterion': 'entropy'},\n",
       "  {'n_estimators': 96,\n",
       "   'min_samples_split': 4,\n",
       "   'max_features': 'log2',\n",
       "   'max_depth': 8,\n",
       "   'criterion': 'entropy'},\n",
       "  {'n_estimators': 64,\n",
       "   'min_samples_split': 3,\n",
       "   'max_features': 'sqrt',\n",
       "   'max_depth': 6,\n",
       "   'criterion': 'entropy'},\n",
       "  {'n_estimators': 96,\n",
       "   'min_samples_split': 3,\n",
       "   'max_features': 'sqrt',\n",
       "   'max_depth': 4,\n",
       "   'criterion': 'gini'},\n",
       "  {'n_estimators': 38,\n",
       "   'min_samples_split': 4,\n",
       "   'max_features': 'log2',\n",
       "   'max_depth': 3,\n",
       "   'criterion': 'gini'},\n",
       "  {'n_estimators': 29,\n",
       "   'min_samples_split': 4,\n",
       "   'max_features': 'log2',\n",
       "   'max_depth': 3,\n",
       "   'criterion': 'gini'},\n",
       "  {'n_estimators': 32,\n",
       "   'min_samples_split': 4,\n",
       "   'max_features': 'sqrt',\n",
       "   'max_depth': 7,\n",
       "   'criterion': 'gini'},\n",
       "  {'n_estimators': 131,\n",
       "   'min_samples_split': 2,\n",
       "   'max_features': 'sqrt',\n",
       "   'max_depth': 4,\n",
       "   'criterion': 'gini'},\n",
       "  {'n_estimators': 142,\n",
       "   'min_samples_split': 2,\n",
       "   'max_features': 'log2',\n",
       "   'max_depth': 3,\n",
       "   'criterion': 'gini'},\n",
       "  {'n_estimators': 18,\n",
       "   'min_samples_split': 4,\n",
       "   'max_features': 'sqrt',\n",
       "   'max_depth': 9,\n",
       "   'criterion': 'gini'},\n",
       "  {'n_estimators': 85,\n",
       "   'min_samples_split': 3,\n",
       "   'max_features': 'log2',\n",
       "   'max_depth': 7,\n",
       "   'criterion': 'entropy'},\n",
       "  {'n_estimators': 145,\n",
       "   'min_samples_split': 3,\n",
       "   'max_features': 'log2',\n",
       "   'max_depth': 9,\n",
       "   'criterion': 'gini'},\n",
       "  {'n_estimators': 21,\n",
       "   'min_samples_split': 3,\n",
       "   'max_features': 'log2',\n",
       "   'max_depth': 9,\n",
       "   'criterion': 'entropy'},\n",
       "  {'n_estimators': 123,\n",
       "   'min_samples_split': 4,\n",
       "   'max_features': 'sqrt',\n",
       "   'max_depth': 9,\n",
       "   'criterion': 'gini'},\n",
       "  {'n_estimators': 18,\n",
       "   'min_samples_split': 2,\n",
       "   'max_features': 'sqrt',\n",
       "   'max_depth': 10,\n",
       "   'criterion': 'gini'},\n",
       "  {'n_estimators': 21,\n",
       "   'min_samples_split': 2,\n",
       "   'max_features': 'sqrt',\n",
       "   'max_depth': 4,\n",
       "   'criterion': 'entropy'},\n",
       "  {'n_estimators': 20,\n",
       "   'min_samples_split': 3,\n",
       "   'max_features': 'sqrt',\n",
       "   'max_depth': 8,\n",
       "   'criterion': 'gini'},\n",
       "  {'n_estimators': 123,\n",
       "   'min_samples_split': 3,\n",
       "   'max_features': 'sqrt',\n",
       "   'max_depth': 3,\n",
       "   'criterion': 'entropy'},\n",
       "  {'n_estimators': 64,\n",
       "   'min_samples_split': 2,\n",
       "   'max_features': 'sqrt',\n",
       "   'max_depth': 5,\n",
       "   'criterion': 'entropy'},\n",
       "  {'n_estimators': 32,\n",
       "   'min_samples_split': 3,\n",
       "   'max_features': 'sqrt',\n",
       "   'max_depth': 3,\n",
       "   'criterion': 'gini'},\n",
       "  {'n_estimators': 142,\n",
       "   'min_samples_split': 4,\n",
       "   'max_features': 'log2',\n",
       "   'max_depth': 4,\n",
       "   'criterion': 'entropy'},\n",
       "  {'n_estimators': 88,\n",
       "   'min_samples_split': 4,\n",
       "   'max_features': 'log2',\n",
       "   'max_depth': 3,\n",
       "   'criterion': 'entropy'},\n",
       "  {'n_estimators': 20,\n",
       "   'min_samples_split': 3,\n",
       "   'max_features': 'sqrt',\n",
       "   'max_depth': 11,\n",
       "   'criterion': 'entropy'},\n",
       "  {'n_estimators': 85,\n",
       "   'min_samples_split': 3,\n",
       "   'max_features': 'sqrt',\n",
       "   'max_depth': 5,\n",
       "   'criterion': 'entropy'},\n",
       "  {'n_estimators': 85,\n",
       "   'min_samples_split': 4,\n",
       "   'max_features': 'log2',\n",
       "   'max_depth': 4,\n",
       "   'criterion': 'entropy'},\n",
       "  {'n_estimators': 88,\n",
       "   'min_samples_split': 2,\n",
       "   'max_features': 'sqrt',\n",
       "   'max_depth': 4,\n",
       "   'criterion': 'gini'},\n",
       "  {'n_estimators': 65,\n",
       "   'min_samples_split': 3,\n",
       "   'max_features': 'log2',\n",
       "   'max_depth': 8,\n",
       "   'criterion': 'entropy'},\n",
       "  {'n_estimators': 20,\n",
       "   'min_samples_split': 4,\n",
       "   'max_features': 'sqrt',\n",
       "   'max_depth': 3,\n",
       "   'criterion': 'entropy'},\n",
       "  {'n_estimators': 64,\n",
       "   'min_samples_split': 4,\n",
       "   'max_features': 'sqrt',\n",
       "   'max_depth': 8,\n",
       "   'criterion': 'entropy'},\n",
       "  {'n_estimators': 21,\n",
       "   'min_samples_split': 4,\n",
       "   'max_features': 'sqrt',\n",
       "   'max_depth': 9,\n",
       "   'criterion': 'gini'},\n",
       "  {'n_estimators': 21,\n",
       "   'min_samples_split': 3,\n",
       "   'max_features': 'sqrt',\n",
       "   'max_depth': 9,\n",
       "   'criterion': 'entropy'},\n",
       "  {'n_estimators': 38,\n",
       "   'min_samples_split': 2,\n",
       "   'max_features': 'log2',\n",
       "   'max_depth': 8,\n",
       "   'criterion': 'entropy'},\n",
       "  {'n_estimators': 38,\n",
       "   'min_samples_split': 3,\n",
       "   'max_features': 'sqrt',\n",
       "   'max_depth': 3,\n",
       "   'criterion': 'gini'},\n",
       "  {'n_estimators': 69,\n",
       "   'min_samples_split': 3,\n",
       "   'max_features': 'sqrt',\n",
       "   'max_depth': 6,\n",
       "   'criterion': 'entropy'},\n",
       "  {'n_estimators': 103,\n",
       "   'min_samples_split': 2,\n",
       "   'max_features': 'sqrt',\n",
       "   'max_depth': 3,\n",
       "   'criterion': 'gini'},\n",
       "  {'n_estimators': 123,\n",
       "   'min_samples_split': 4,\n",
       "   'max_features': 'log2',\n",
       "   'max_depth': 11,\n",
       "   'criterion': 'gini'},\n",
       "  {'n_estimators': 32,\n",
       "   'min_samples_split': 4,\n",
       "   'max_features': 'sqrt',\n",
       "   'max_depth': 7,\n",
       "   'criterion': 'entropy'},\n",
       "  {'n_estimators': 71,\n",
       "   'min_samples_split': 3,\n",
       "   'max_features': 'log2',\n",
       "   'max_depth': 3,\n",
       "   'criterion': 'entropy'},\n",
       "  {'n_estimators': 116,\n",
       "   'min_samples_split': 3,\n",
       "   'max_features': 'log2',\n",
       "   'max_depth': 3,\n",
       "   'criterion': 'entropy'},\n",
       "  {'n_estimators': 69,\n",
       "   'min_samples_split': 4,\n",
       "   'max_features': 'sqrt',\n",
       "   'max_depth': 10,\n",
       "   'criterion': 'entropy'},\n",
       "  {'n_estimators': 96,\n",
       "   'min_samples_split': 3,\n",
       "   'max_features': 'log2',\n",
       "   'max_depth': 9,\n",
       "   'criterion': 'entropy'},\n",
       "  {'n_estimators': 21,\n",
       "   'min_samples_split': 4,\n",
       "   'max_features': 'sqrt',\n",
       "   'max_depth': 6,\n",
       "   'criterion': 'entropy'},\n",
       "  {'n_estimators': 116,\n",
       "   'min_samples_split': 2,\n",
       "   'max_features': 'sqrt',\n",
       "   'max_depth': 5,\n",
       "   'criterion': 'gini'},\n",
       "  {'n_estimators': 142,\n",
       "   'min_samples_split': 4,\n",
       "   'max_features': 'sqrt',\n",
       "   'max_depth': 9,\n",
       "   'criterion': 'gini'},\n",
       "  {'n_estimators': 67,\n",
       "   'min_samples_split': 4,\n",
       "   'max_features': 'log2',\n",
       "   'max_depth': 10,\n",
       "   'criterion': 'entropy'},\n",
       "  {'n_estimators': 64,\n",
       "   'min_samples_split': 2,\n",
       "   'max_features': 'sqrt',\n",
       "   'max_depth': 4,\n",
       "   'criterion': 'entropy'},\n",
       "  {'n_estimators': 33,\n",
       "   'min_samples_split': 3,\n",
       "   'max_features': 'sqrt',\n",
       "   'max_depth': 9,\n",
       "   'criterion': 'gini'},\n",
       "  {'n_estimators': 69,\n",
       "   'min_samples_split': 3,\n",
       "   'max_features': 'log2',\n",
       "   'max_depth': 8,\n",
       "   'criterion': 'gini'},\n",
       "  {'n_estimators': 109,\n",
       "   'min_samples_split': 3,\n",
       "   'max_features': 'log2',\n",
       "   'max_depth': 7,\n",
       "   'criterion': 'gini'},\n",
       "  {'n_estimators': 122,\n",
       "   'min_samples_split': 2,\n",
       "   'max_features': 'log2',\n",
       "   'max_depth': 10,\n",
       "   'criterion': 'gini'},\n",
       "  {'n_estimators': 32,\n",
       "   'min_samples_split': 2,\n",
       "   'max_features': 'log2',\n",
       "   'max_depth': 8,\n",
       "   'criterion': 'gini'},\n",
       "  {'n_estimators': 33,\n",
       "   'min_samples_split': 2,\n",
       "   'max_features': 'sqrt',\n",
       "   'max_depth': 5,\n",
       "   'criterion': 'entropy'},\n",
       "  {'n_estimators': 24,\n",
       "   'min_samples_split': 2,\n",
       "   'max_features': 'sqrt',\n",
       "   'max_depth': 11,\n",
       "   'criterion': 'entropy'},\n",
       "  {'n_estimators': 147,\n",
       "   'min_samples_split': 2,\n",
       "   'max_features': 'sqrt',\n",
       "   'max_depth': 3,\n",
       "   'criterion': 'entropy'},\n",
       "  {'n_estimators': 65,\n",
       "   'min_samples_split': 2,\n",
       "   'max_features': 'sqrt',\n",
       "   'max_depth': 2,\n",
       "   'criterion': 'entropy'},\n",
       "  {'n_estimators': 116,\n",
       "   'min_samples_split': 3,\n",
       "   'max_features': 'log2',\n",
       "   'max_depth': 4,\n",
       "   'criterion': 'gini'},\n",
       "  {'n_estimators': 135,\n",
       "   'min_samples_split': 4,\n",
       "   'max_features': 'log2',\n",
       "   'max_depth': 5,\n",
       "   'criterion': 'entropy'},\n",
       "  {'n_estimators': 33,\n",
       "   'min_samples_split': 4,\n",
       "   'max_features': 'log2',\n",
       "   'max_depth': 8,\n",
       "   'criterion': 'entropy'},\n",
       "  {'n_estimators': 85,\n",
       "   'min_samples_split': 3,\n",
       "   'max_features': 'sqrt',\n",
       "   'max_depth': 9,\n",
       "   'criterion': 'gini'},\n",
       "  {'n_estimators': 101,\n",
       "   'min_samples_split': 2,\n",
       "   'max_features': 'log2',\n",
       "   'max_depth': 9,\n",
       "   'criterion': 'entropy'},\n",
       "  {'n_estimators': 96,\n",
       "   'min_samples_split': 3,\n",
       "   'max_features': 'sqrt',\n",
       "   'max_depth': 5,\n",
       "   'criterion': 'gini'},\n",
       "  {'n_estimators': 18,\n",
       "   'min_samples_split': 4,\n",
       "   'max_features': 'sqrt',\n",
       "   'max_depth': 6,\n",
       "   'criterion': 'entropy'},\n",
       "  {'n_estimators': 21,\n",
       "   'min_samples_split': 4,\n",
       "   'max_features': 'sqrt',\n",
       "   'max_depth': 7,\n",
       "   'criterion': 'entropy'},\n",
       "  {'n_estimators': 32,\n",
       "   'min_samples_split': 3,\n",
       "   'max_features': 'sqrt',\n",
       "   'max_depth': 9,\n",
       "   'criterion': 'gini'},\n",
       "  {'n_estimators': 67,\n",
       "   'min_samples_split': 3,\n",
       "   'max_features': 'log2',\n",
       "   'max_depth': 10,\n",
       "   'criterion': 'gini'},\n",
       "  {'n_estimators': 18,\n",
       "   'min_samples_split': 2,\n",
       "   'max_features': 'sqrt',\n",
       "   'max_depth': 8,\n",
       "   'criterion': 'gini'},\n",
       "  {'n_estimators': 71,\n",
       "   'min_samples_split': 3,\n",
       "   'max_features': 'log2',\n",
       "   'max_depth': 2,\n",
       "   'criterion': 'gini'},\n",
       "  {'n_estimators': 135,\n",
       "   'min_samples_split': 3,\n",
       "   'max_features': 'log2',\n",
       "   'max_depth': 11,\n",
       "   'criterion': 'entropy'},\n",
       "  {'n_estimators': 33,\n",
       "   'min_samples_split': 2,\n",
       "   'max_features': 'log2',\n",
       "   'max_depth': 3,\n",
       "   'criterion': 'entropy'},\n",
       "  {'n_estimators': 147,\n",
       "   'min_samples_split': 2,\n",
       "   'max_features': 'log2',\n",
       "   'max_depth': 3,\n",
       "   'criterion': 'entropy'},\n",
       "  {'n_estimators': 48,\n",
       "   'min_samples_split': 2,\n",
       "   'max_features': 'log2',\n",
       "   'max_depth': 9,\n",
       "   'criterion': 'gini'},\n",
       "  {'n_estimators': 18,\n",
       "   'min_samples_split': 4,\n",
       "   'max_features': 'log2',\n",
       "   'max_depth': 8,\n",
       "   'criterion': 'entropy'},\n",
       "  {'n_estimators': 18,\n",
       "   'min_samples_split': 3,\n",
       "   'max_features': 'sqrt',\n",
       "   'max_depth': 4,\n",
       "   'criterion': 'entropy'},\n",
       "  {'n_estimators': 29,\n",
       "   'min_samples_split': 3,\n",
       "   'max_features': 'sqrt',\n",
       "   'max_depth': 8,\n",
       "   'criterion': 'gini'},\n",
       "  {'n_estimators': 122,\n",
       "   'min_samples_split': 3,\n",
       "   'max_features': 'log2',\n",
       "   'max_depth': 4,\n",
       "   'criterion': 'gini'},\n",
       "  {'n_estimators': 96,\n",
       "   'min_samples_split': 3,\n",
       "   'max_features': 'log2',\n",
       "   'max_depth': 9,\n",
       "   'criterion': 'gini'},\n",
       "  {'n_estimators': 142,\n",
       "   'min_samples_split': 3,\n",
       "   'max_features': 'sqrt',\n",
       "   'max_depth': 3,\n",
       "   'criterion': 'gini'},\n",
       "  {'n_estimators': 27,\n",
       "   'min_samples_split': 4,\n",
       "   'max_features': 'sqrt',\n",
       "   'max_depth': 8,\n",
       "   'criterion': 'entropy'},\n",
       "  {'n_estimators': 32,\n",
       "   'min_samples_split': 2,\n",
       "   'max_features': 'sqrt',\n",
       "   'max_depth': 3,\n",
       "   'criterion': 'gini'},\n",
       "  {'n_estimators': 142,\n",
       "   'min_samples_split': 4,\n",
       "   'max_features': 'log2',\n",
       "   'max_depth': 11,\n",
       "   'criterion': 'entropy'},\n",
       "  {'n_estimators': 27,\n",
       "   'min_samples_split': 4,\n",
       "   'max_features': 'log2',\n",
       "   'max_depth': 7,\n",
       "   'criterion': 'gini'},\n",
       "  {'n_estimators': 29,\n",
       "   'min_samples_split': 3,\n",
       "   'max_features': 'sqrt',\n",
       "   'max_depth': 4,\n",
       "   'criterion': 'gini'},\n",
       "  {'n_estimators': 65,\n",
       "   'min_samples_split': 3,\n",
       "   'max_features': 'sqrt',\n",
       "   'max_depth': 2,\n",
       "   'criterion': 'entropy'},\n",
       "  {'n_estimators': 32,\n",
       "   'min_samples_split': 3,\n",
       "   'max_features': 'log2',\n",
       "   'max_depth': 7,\n",
       "   'criterion': 'gini'},\n",
       "  {'n_estimators': 67,\n",
       "   'min_samples_split': 4,\n",
       "   'max_features': 'sqrt',\n",
       "   'max_depth': 9,\n",
       "   'criterion': 'entropy'},\n",
       "  {'n_estimators': 38,\n",
       "   'min_samples_split': 4,\n",
       "   'max_features': 'log2',\n",
       "   'max_depth': 5,\n",
       "   'criterion': 'entropy'},\n",
       "  {'n_estimators': 145,\n",
       "   'min_samples_split': 2,\n",
       "   'max_features': 'sqrt',\n",
       "   'max_depth': 2,\n",
       "   'criterion': 'entropy'},\n",
       "  {'n_estimators': 71,\n",
       "   'min_samples_split': 2,\n",
       "   'max_features': 'log2',\n",
       "   'max_depth': 4,\n",
       "   'criterion': 'gini'},\n",
       "  {'n_estimators': 67,\n",
       "   'min_samples_split': 3,\n",
       "   'max_features': 'sqrt',\n",
       "   'max_depth': 9,\n",
       "   'criterion': 'entropy'},\n",
       "  {'n_estimators': 33,\n",
       "   'min_samples_split': 2,\n",
       "   'max_features': 'log2',\n",
       "   'max_depth': 7,\n",
       "   'criterion': 'gini'},\n",
       "  {'n_estimators': 122,\n",
       "   'min_samples_split': 4,\n",
       "   'max_features': 'sqrt',\n",
       "   'max_depth': 10,\n",
       "   'criterion': 'entropy'},\n",
       "  {'n_estimators': 29,\n",
       "   'min_samples_split': 3,\n",
       "   'max_features': 'log2',\n",
       "   'max_depth': 3,\n",
       "   'criterion': 'gini'},\n",
       "  {'n_estimators': 71,\n",
       "   'min_samples_split': 4,\n",
       "   'max_features': 'sqrt',\n",
       "   'max_depth': 11,\n",
       "   'criterion': 'entropy'},\n",
       "  {'n_estimators': 18,\n",
       "   'min_samples_split': 3,\n",
       "   'max_features': 'log2',\n",
       "   'max_depth': 3,\n",
       "   'criterion': 'entropy'},\n",
       "  {'n_estimators': 142,\n",
       "   'min_samples_split': 4,\n",
       "   'max_features': 'log2',\n",
       "   'max_depth': 11,\n",
       "   'criterion': 'gini'}],\n",
       " 'split0_test_score': array([0.82857143, 0.77142857, 0.82857143, 0.82857143, 0.82857143,\n",
       "        0.81428571, 0.84285714, 0.81428571, 0.78571429, 0.8       ,\n",
       "        0.82857143, 0.81428571, 0.81428571, 0.82857143, 0.81428571,\n",
       "        0.82857143, 0.81428571, 0.78571429, 0.8       , 0.84285714,\n",
       "        0.81428571, 0.82857143, 0.82857143, 0.82857143, 0.82857143,\n",
       "        0.82857143, 0.81428571, 0.82857143, 0.84285714, 0.81428571,\n",
       "        0.82857143, 0.8       , 0.8       , 0.81428571, 0.81428571,\n",
       "        0.81428571, 0.81428571, 0.82857143, 0.82857143, 0.8       ,\n",
       "        0.81428571, 0.82857143, 0.8       , 0.81428571, 0.81428571,\n",
       "        0.84285714, 0.81428571, 0.8       , 0.81428571, 0.84285714,\n",
       "        0.81428571, 0.84285714, 0.81428571, 0.81428571, 0.81428571,\n",
       "        0.8       , 0.85714286, 0.84285714, 0.81428571, 0.78571429,\n",
       "        0.82857143, 0.84285714, 0.84285714, 0.81428571, 0.82857143,\n",
       "        0.78571429, 0.81428571, 0.81428571, 0.8       , 0.78571429,\n",
       "        0.78571429, 0.82857143, 0.87142857, 0.82857143, 0.81428571,\n",
       "        0.81428571, 0.84285714, 0.81428571, 0.82857143, 0.82857143,\n",
       "        0.81428571, 0.82857143, 0.81428571, 0.84285714, 0.82857143,\n",
       "        0.82857143, 0.81428571, 0.82857143, 0.82857143, 0.82857143,\n",
       "        0.84285714, 0.8       , 0.81428571, 0.84285714, 0.81428571,\n",
       "        0.82857143, 0.77142857, 0.78571429, 0.8       , 0.84285714]),\n",
       " 'split1_test_score': array([0.92857143, 0.9       , 0.92857143, 0.97142857, 0.94285714,\n",
       "        0.92857143, 0.95714286, 0.94285714, 0.95714286, 0.9       ,\n",
       "        0.91428571, 0.92857143, 0.95714286, 0.94285714, 0.94285714,\n",
       "        0.94285714, 0.91428571, 0.91428571, 0.92857143, 0.9       ,\n",
       "        0.92857143, 0.92857143, 0.95714286, 0.95714286, 0.92857143,\n",
       "        0.94285714, 0.94285714, 0.92857143, 0.92857143, 0.94285714,\n",
       "        0.94285714, 0.94285714, 0.9       , 0.95714286, 0.92857143,\n",
       "        0.91428571, 0.94285714, 0.94285714, 0.92857143, 0.94285714,\n",
       "        0.91428571, 0.91428571, 0.91428571, 0.95714286, 0.9       ,\n",
       "        0.95714286, 0.92857143, 0.94285714, 0.94285714, 0.95714286,\n",
       "        0.95714286, 0.92857143, 0.94285714, 0.95714286, 0.91428571,\n",
       "        0.91428571, 0.88571429, 0.94285714, 0.94285714, 0.87142857,\n",
       "        0.94285714, 0.95714286, 0.94285714, 0.91428571, 0.94285714,\n",
       "        0.94285714, 0.91428571, 0.85714286, 0.91428571, 0.91428571,\n",
       "        0.92857143, 0.92857143, 0.95714286, 0.9       , 0.92857143,\n",
       "        0.94285714, 0.94285714, 0.92857143, 0.92857143, 0.94285714,\n",
       "        0.92857143, 0.95714286, 0.94285714, 0.94285714, 0.91428571,\n",
       "        0.92857143, 0.94285714, 0.81428571, 0.91428571, 0.92857143,\n",
       "        0.94285714, 0.88571429, 0.95714286, 0.92857143, 0.95714286,\n",
       "        0.94285714, 0.92857143, 0.92857143, 0.91428571, 0.94285714]),\n",
       " 'split2_test_score': array([0.85507246, 0.79710145, 0.85507246, 0.85507246, 0.86956522,\n",
       "        0.84057971, 0.85507246, 0.85507246, 0.86956522, 0.86956522,\n",
       "        0.86956522, 0.86956522, 0.85507246, 0.82608696, 0.84057971,\n",
       "        0.85507246, 0.86956522, 0.85507246, 0.85507246, 0.85507246,\n",
       "        0.88405797, 0.84057971, 0.85507246, 0.84057971, 0.88405797,\n",
       "        0.84057971, 0.86956522, 0.8115942 , 0.84057971, 0.86956522,\n",
       "        0.85507246, 0.86956522, 0.82608696, 0.86956522, 0.84057971,\n",
       "        0.82608696, 0.86956522, 0.85507246, 0.85507246, 0.85507246,\n",
       "        0.85507246, 0.88405797, 0.85507246, 0.85507246, 0.85507246,\n",
       "        0.86956522, 0.85507246, 0.84057971, 0.85507246, 0.82608696,\n",
       "        0.84057971, 0.86956522, 0.85507246, 0.82608696, 0.86956522,\n",
       "        0.8115942 , 0.84057971, 0.79710145, 0.85507246, 0.85507246,\n",
       "        0.86956522, 0.84057971, 0.82608696, 0.86956522, 0.86956522,\n",
       "        0.84057971, 0.85507246, 0.86956522, 0.84057971, 0.85507246,\n",
       "        0.82608696, 0.84057971, 0.85507246, 0.85507246, 0.85507246,\n",
       "        0.84057971, 0.86956522, 0.8115942 , 0.79710145, 0.85507246,\n",
       "        0.86956522, 0.85507246, 0.84057971, 0.85507246, 0.85507246,\n",
       "        0.84057971, 0.82608696, 0.86956522, 0.86956522, 0.84057971,\n",
       "        0.85507246, 0.84057971, 0.85507246, 0.84057971, 0.85507246,\n",
       "        0.84057971, 0.86956522, 0.86956522, 0.86956522, 0.85507246]),\n",
       " 'mean_test_score': array([0.87073844, 0.82284334, 0.87073844, 0.88502415, 0.88033126,\n",
       "        0.86114562, 0.88502415, 0.87073844, 0.87080745, 0.85652174,\n",
       "        0.87080745, 0.87080745, 0.87550035, 0.86583851, 0.86590752,\n",
       "        0.87550035, 0.86604555, 0.85169082, 0.86121463, 0.86597654,\n",
       "        0.87563837, 0.86590752, 0.88026225, 0.87543133, 0.88040028,\n",
       "        0.87066943, 0.87556936, 0.85624569, 0.87066943, 0.87556936,\n",
       "        0.87550035, 0.87080745, 0.84202899, 0.88033126, 0.86114562,\n",
       "        0.8515528 , 0.87556936, 0.87550035, 0.87073844, 0.86597654,\n",
       "        0.86121463, 0.87563837, 0.85645273, 0.87550035, 0.85645273,\n",
       "        0.88985507, 0.86597654, 0.86114562, 0.87073844, 0.87536232,\n",
       "        0.87066943, 0.88033126, 0.87073844, 0.86583851, 0.86604555,\n",
       "        0.84195997, 0.86114562, 0.86093858, 0.87073844, 0.83740511,\n",
       "        0.88033126, 0.88019324, 0.87060041, 0.86604555, 0.88033126,\n",
       "        0.85638371, 0.86121463, 0.84699793, 0.85162181, 0.85169082,\n",
       "        0.84679089, 0.86590752, 0.89454796, 0.86121463, 0.86597654,\n",
       "        0.86590752, 0.88509317, 0.85148378, 0.85141477, 0.87550035,\n",
       "        0.87080745, 0.88026225, 0.86590752, 0.88026225, 0.86597654,\n",
       "        0.86590752, 0.8610766 , 0.83747412, 0.87080745, 0.86590752,\n",
       "        0.88026225, 0.842098  , 0.87550035, 0.87066943, 0.87550035,\n",
       "        0.87066943, 0.85652174, 0.86128364, 0.86128364, 0.88026225]),\n",
       " 'std_test_score': array([0.04230104, 0.0555556 , 0.04230104, 0.06204766, 0.04727393,\n",
       "        0.04887074, 0.05123888, 0.05364526, 0.06999093, 0.04185371,\n",
       "        0.03500373, 0.04666522, 0.06008336, 0.05446984, 0.05546036,\n",
       "        0.04884178, 0.04090062, 0.0525435 , 0.05266845, 0.02456964,\n",
       "        0.04703526, 0.04458044, 0.05542892, 0.05798638, 0.04090667,\n",
       "        0.0512793 , 0.05266049, 0.05160954, 0.04095345, 0.05266049,\n",
       "        0.04884178, 0.0583278 , 0.04235258, 0.05881594, 0.04887074,\n",
       "        0.04461974, 0.05266049, 0.04884178, 0.04230104, 0.05882865,\n",
       "        0.0410552 , 0.03549556, 0.04666715, 0.06008336, 0.03500632,\n",
       "        0.04881301, 0.04728975, 0.06010689, 0.05364526, 0.05823145,\n",
       "        0.06208104, 0.03581122, 0.05364526, 0.06474144, 0.04090062,\n",
       "        0.0513606 , 0.01864223, 0.0608626 , 0.05364526, 0.03715585,\n",
       "        0.04727393, 0.05441954, 0.05154988, 0.04090062, 0.04727393,\n",
       "        0.06511935, 0.0410552 , 0.02368045, 0.04730576, 0.0525435 ,\n",
       "        0.06013058, 0.04458044, 0.04476212, 0.02948225, 0.04728975,\n",
       "        0.05546036, 0.04227559, 0.05452027, 0.05605029, 0.04884178,\n",
       "        0.04666522, 0.05542892, 0.05546036, 0.04454132, 0.0358321 ,\n",
       "        0.04458044, 0.05802792, 0.02342932, 0.03500373, 0.04458044,\n",
       "        0.04454132, 0.03500918, 0.06008336, 0.04095345, 0.06008336,\n",
       "        0.0512793 , 0.0648129 , 0.05861444, 0.047023  , 0.04454132]),\n",
       " 'rank_test_score': array([ 39, 100,  39,   4,   7,  75,   4,  39,  33,  81,  33,  33,  23,\n",
       "         67,  60,  23,  52,  87,  71,  55,  18,  60,  12,  31,   6,  46,\n",
       "         20,  86,  46,  20,  23,  33,  96,   7,  75,  90,  20,  23,  39,\n",
       "         55,  71,  18,  83,  23,  83,   2,  55,  75,  39,  32,  46,   7,\n",
       "         39,  67,  52,  97,  75,  80,  39,  99,   7,  17,  51,  52,   7,\n",
       "         85,  71,  93,  89,  87,  94,  60,   1,  71,  55,  60,   3,  91,\n",
       "         92,  23,  33,  12,  60,  12,  55,  60,  79,  98,  33,  60,  12,\n",
       "         95,  23,  46,  23,  46,  81,  69,  69,  12])}"
      ]
     },
     "execution_count": 58,
     "metadata": {},
     "output_type": "execute_result"
    }
   ],
   "source": [
    "rcv.cv_results_"
   ]
  },
  {
   "cell_type": "code",
   "execution_count": 59,
   "id": "3e8292d6",
   "metadata": {},
   "outputs": [],
   "source": [
    "tuning_result = pd.DataFrame(rcv.cv_results_)"
   ]
  },
  {
   "cell_type": "code",
   "execution_count": 60,
   "id": "bcca2d4a",
   "metadata": {},
   "outputs": [
    {
     "data": {
      "text/html": [
       "<div>\n",
       "<style scoped>\n",
       "    .dataframe tbody tr th:only-of-type {\n",
       "        vertical-align: middle;\n",
       "    }\n",
       "\n",
       "    .dataframe tbody tr th {\n",
       "        vertical-align: top;\n",
       "    }\n",
       "\n",
       "    .dataframe thead th {\n",
       "        text-align: right;\n",
       "    }\n",
       "</style>\n",
       "<table border=\"1\" class=\"dataframe\">\n",
       "  <thead>\n",
       "    <tr style=\"text-align: right;\">\n",
       "      <th></th>\n",
       "      <th>mean_fit_time</th>\n",
       "      <th>std_fit_time</th>\n",
       "      <th>mean_score_time</th>\n",
       "      <th>std_score_time</th>\n",
       "      <th>param_n_estimators</th>\n",
       "      <th>param_min_samples_split</th>\n",
       "      <th>param_max_features</th>\n",
       "      <th>param_max_depth</th>\n",
       "      <th>param_criterion</th>\n",
       "      <th>params</th>\n",
       "      <th>split0_test_score</th>\n",
       "      <th>split1_test_score</th>\n",
       "      <th>split2_test_score</th>\n",
       "      <th>mean_test_score</th>\n",
       "      <th>std_test_score</th>\n",
       "      <th>rank_test_score</th>\n",
       "    </tr>\n",
       "  </thead>\n",
       "  <tbody>\n",
       "    <tr>\n",
       "      <th>0</th>\n",
       "      <td>0.274601</td>\n",
       "      <td>0.043316</td>\n",
       "      <td>0.021320</td>\n",
       "      <td>1.246513e-03</td>\n",
       "      <td>142</td>\n",
       "      <td>3</td>\n",
       "      <td>sqrt</td>\n",
       "      <td>3</td>\n",
       "      <td>entropy</td>\n",
       "      <td>{'n_estimators': 142, 'min_samples_split': 3, ...</td>\n",
       "      <td>0.828571</td>\n",
       "      <td>0.928571</td>\n",
       "      <td>0.855072</td>\n",
       "      <td>0.870738</td>\n",
       "      <td>0.042301</td>\n",
       "      <td>39</td>\n",
       "    </tr>\n",
       "    <tr>\n",
       "      <th>1</th>\n",
       "      <td>0.084745</td>\n",
       "      <td>0.009343</td>\n",
       "      <td>0.007329</td>\n",
       "      <td>4.708090e-04</td>\n",
       "      <td>48</td>\n",
       "      <td>3</td>\n",
       "      <td>sqrt</td>\n",
       "      <td>2</td>\n",
       "      <td>gini</td>\n",
       "      <td>{'n_estimators': 48, 'min_samples_split': 3, '...</td>\n",
       "      <td>0.771429</td>\n",
       "      <td>0.900000</td>\n",
       "      <td>0.797101</td>\n",
       "      <td>0.822843</td>\n",
       "      <td>0.055556</td>\n",
       "      <td>100</td>\n",
       "    </tr>\n",
       "    <tr>\n",
       "      <th>2</th>\n",
       "      <td>0.060628</td>\n",
       "      <td>0.004794</td>\n",
       "      <td>0.005996</td>\n",
       "      <td>3.371748e-07</td>\n",
       "      <td>32</td>\n",
       "      <td>2</td>\n",
       "      <td>sqrt</td>\n",
       "      <td>11</td>\n",
       "      <td>entropy</td>\n",
       "      <td>{'n_estimators': 32, 'min_samples_split': 2, '...</td>\n",
       "      <td>0.828571</td>\n",
       "      <td>0.928571</td>\n",
       "      <td>0.855072</td>\n",
       "      <td>0.870738</td>\n",
       "      <td>0.042301</td>\n",
       "      <td>39</td>\n",
       "    </tr>\n",
       "    <tr>\n",
       "      <th>3</th>\n",
       "      <td>0.240016</td>\n",
       "      <td>0.008187</td>\n",
       "      <td>0.021020</td>\n",
       "      <td>4.216893e-03</td>\n",
       "      <td>134</td>\n",
       "      <td>2</td>\n",
       "      <td>log2</td>\n",
       "      <td>11</td>\n",
       "      <td>entropy</td>\n",
       "      <td>{'n_estimators': 134, 'min_samples_split': 2, ...</td>\n",
       "      <td>0.828571</td>\n",
       "      <td>0.971429</td>\n",
       "      <td>0.855072</td>\n",
       "      <td>0.885024</td>\n",
       "      <td>0.062048</td>\n",
       "      <td>4</td>\n",
       "    </tr>\n",
       "    <tr>\n",
       "      <th>4</th>\n",
       "      <td>0.180754</td>\n",
       "      <td>0.001810</td>\n",
       "      <td>0.016983</td>\n",
       "      <td>2.818220e-03</td>\n",
       "      <td>101</td>\n",
       "      <td>2</td>\n",
       "      <td>sqrt</td>\n",
       "      <td>11</td>\n",
       "      <td>entropy</td>\n",
       "      <td>{'n_estimators': 101, 'min_samples_split': 2, ...</td>\n",
       "      <td>0.828571</td>\n",
       "      <td>0.942857</td>\n",
       "      <td>0.869565</td>\n",
       "      <td>0.880331</td>\n",
       "      <td>0.047274</td>\n",
       "      <td>7</td>\n",
       "    </tr>\n",
       "    <tr>\n",
       "      <th>...</th>\n",
       "      <td>...</td>\n",
       "      <td>...</td>\n",
       "      <td>...</td>\n",
       "      <td>...</td>\n",
       "      <td>...</td>\n",
       "      <td>...</td>\n",
       "      <td>...</td>\n",
       "      <td>...</td>\n",
       "      <td>...</td>\n",
       "      <td>...</td>\n",
       "      <td>...</td>\n",
       "      <td>...</td>\n",
       "      <td>...</td>\n",
       "      <td>...</td>\n",
       "      <td>...</td>\n",
       "      <td>...</td>\n",
       "    </tr>\n",
       "    <tr>\n",
       "      <th>95</th>\n",
       "      <td>0.202417</td>\n",
       "      <td>0.007470</td>\n",
       "      <td>0.017346</td>\n",
       "      <td>1.266143e-03</td>\n",
       "      <td>122</td>\n",
       "      <td>4</td>\n",
       "      <td>sqrt</td>\n",
       "      <td>10</td>\n",
       "      <td>entropy</td>\n",
       "      <td>{'n_estimators': 122, 'min_samples_split': 4, ...</td>\n",
       "      <td>0.828571</td>\n",
       "      <td>0.942857</td>\n",
       "      <td>0.840580</td>\n",
       "      <td>0.870669</td>\n",
       "      <td>0.051279</td>\n",
       "      <td>46</td>\n",
       "    </tr>\n",
       "    <tr>\n",
       "      <th>96</th>\n",
       "      <td>0.047904</td>\n",
       "      <td>0.001316</td>\n",
       "      <td>0.005658</td>\n",
       "      <td>4.681933e-04</td>\n",
       "      <td>29</td>\n",
       "      <td>3</td>\n",
       "      <td>log2</td>\n",
       "      <td>3</td>\n",
       "      <td>gini</td>\n",
       "      <td>{'n_estimators': 29, 'min_samples_split': 3, '...</td>\n",
       "      <td>0.771429</td>\n",
       "      <td>0.928571</td>\n",
       "      <td>0.869565</td>\n",
       "      <td>0.856522</td>\n",
       "      <td>0.064813</td>\n",
       "      <td>81</td>\n",
       "    </tr>\n",
       "    <tr>\n",
       "      <th>97</th>\n",
       "      <td>0.119261</td>\n",
       "      <td>0.001695</td>\n",
       "      <td>0.010325</td>\n",
       "      <td>4.839323e-04</td>\n",
       "      <td>71</td>\n",
       "      <td>4</td>\n",
       "      <td>sqrt</td>\n",
       "      <td>11</td>\n",
       "      <td>entropy</td>\n",
       "      <td>{'n_estimators': 71, 'min_samples_split': 4, '...</td>\n",
       "      <td>0.785714</td>\n",
       "      <td>0.928571</td>\n",
       "      <td>0.869565</td>\n",
       "      <td>0.861284</td>\n",
       "      <td>0.058614</td>\n",
       "      <td>69</td>\n",
       "    </tr>\n",
       "    <tr>\n",
       "      <th>98</th>\n",
       "      <td>0.030649</td>\n",
       "      <td>0.001246</td>\n",
       "      <td>0.003998</td>\n",
       "      <td>2.973602e-07</td>\n",
       "      <td>18</td>\n",
       "      <td>3</td>\n",
       "      <td>log2</td>\n",
       "      <td>3</td>\n",
       "      <td>entropy</td>\n",
       "      <td>{'n_estimators': 18, 'min_samples_split': 3, '...</td>\n",
       "      <td>0.800000</td>\n",
       "      <td>0.914286</td>\n",
       "      <td>0.869565</td>\n",
       "      <td>0.861284</td>\n",
       "      <td>0.047023</td>\n",
       "      <td>69</td>\n",
       "    </tr>\n",
       "    <tr>\n",
       "      <th>99</th>\n",
       "      <td>0.228869</td>\n",
       "      <td>0.001413</td>\n",
       "      <td>0.018322</td>\n",
       "      <td>4.716514e-04</td>\n",
       "      <td>142</td>\n",
       "      <td>4</td>\n",
       "      <td>log2</td>\n",
       "      <td>11</td>\n",
       "      <td>gini</td>\n",
       "      <td>{'n_estimators': 142, 'min_samples_split': 4, ...</td>\n",
       "      <td>0.842857</td>\n",
       "      <td>0.942857</td>\n",
       "      <td>0.855072</td>\n",
       "      <td>0.880262</td>\n",
       "      <td>0.044541</td>\n",
       "      <td>12</td>\n",
       "    </tr>\n",
       "  </tbody>\n",
       "</table>\n",
       "<p>100 rows × 16 columns</p>\n",
       "</div>"
      ],
      "text/plain": [
       "    mean_fit_time  std_fit_time  mean_score_time  std_score_time  \\\n",
       "0        0.274601      0.043316         0.021320    1.246513e-03   \n",
       "1        0.084745      0.009343         0.007329    4.708090e-04   \n",
       "2        0.060628      0.004794         0.005996    3.371748e-07   \n",
       "3        0.240016      0.008187         0.021020    4.216893e-03   \n",
       "4        0.180754      0.001810         0.016983    2.818220e-03   \n",
       "..            ...           ...              ...             ...   \n",
       "95       0.202417      0.007470         0.017346    1.266143e-03   \n",
       "96       0.047904      0.001316         0.005658    4.681933e-04   \n",
       "97       0.119261      0.001695         0.010325    4.839323e-04   \n",
       "98       0.030649      0.001246         0.003998    2.973602e-07   \n",
       "99       0.228869      0.001413         0.018322    4.716514e-04   \n",
       "\n",
       "   param_n_estimators param_min_samples_split param_max_features  \\\n",
       "0                 142                       3               sqrt   \n",
       "1                  48                       3               sqrt   \n",
       "2                  32                       2               sqrt   \n",
       "3                 134                       2               log2   \n",
       "4                 101                       2               sqrt   \n",
       "..                ...                     ...                ...   \n",
       "95                122                       4               sqrt   \n",
       "96                 29                       3               log2   \n",
       "97                 71                       4               sqrt   \n",
       "98                 18                       3               log2   \n",
       "99                142                       4               log2   \n",
       "\n",
       "   param_max_depth param_criterion  \\\n",
       "0                3         entropy   \n",
       "1                2            gini   \n",
       "2               11         entropy   \n",
       "3               11         entropy   \n",
       "4               11         entropy   \n",
       "..             ...             ...   \n",
       "95              10         entropy   \n",
       "96               3            gini   \n",
       "97              11         entropy   \n",
       "98               3         entropy   \n",
       "99              11            gini   \n",
       "\n",
       "                                               params  split0_test_score  \\\n",
       "0   {'n_estimators': 142, 'min_samples_split': 3, ...           0.828571   \n",
       "1   {'n_estimators': 48, 'min_samples_split': 3, '...           0.771429   \n",
       "2   {'n_estimators': 32, 'min_samples_split': 2, '...           0.828571   \n",
       "3   {'n_estimators': 134, 'min_samples_split': 2, ...           0.828571   \n",
       "4   {'n_estimators': 101, 'min_samples_split': 2, ...           0.828571   \n",
       "..                                                ...                ...   \n",
       "95  {'n_estimators': 122, 'min_samples_split': 4, ...           0.828571   \n",
       "96  {'n_estimators': 29, 'min_samples_split': 3, '...           0.771429   \n",
       "97  {'n_estimators': 71, 'min_samples_split': 4, '...           0.785714   \n",
       "98  {'n_estimators': 18, 'min_samples_split': 3, '...           0.800000   \n",
       "99  {'n_estimators': 142, 'min_samples_split': 4, ...           0.842857   \n",
       "\n",
       "    split1_test_score  split2_test_score  mean_test_score  std_test_score  \\\n",
       "0            0.928571           0.855072         0.870738        0.042301   \n",
       "1            0.900000           0.797101         0.822843        0.055556   \n",
       "2            0.928571           0.855072         0.870738        0.042301   \n",
       "3            0.971429           0.855072         0.885024        0.062048   \n",
       "4            0.942857           0.869565         0.880331        0.047274   \n",
       "..                ...                ...              ...             ...   \n",
       "95           0.942857           0.840580         0.870669        0.051279   \n",
       "96           0.928571           0.869565         0.856522        0.064813   \n",
       "97           0.928571           0.869565         0.861284        0.058614   \n",
       "98           0.914286           0.869565         0.861284        0.047023   \n",
       "99           0.942857           0.855072         0.880262        0.044541   \n",
       "\n",
       "    rank_test_score  \n",
       "0                39  \n",
       "1               100  \n",
       "2                39  \n",
       "3                 4  \n",
       "4                 7  \n",
       "..              ...  \n",
       "95               46  \n",
       "96               81  \n",
       "97               69  \n",
       "98               69  \n",
       "99               12  \n",
       "\n",
       "[100 rows x 16 columns]"
      ]
     },
     "execution_count": 60,
     "metadata": {},
     "output_type": "execute_result"
    }
   ],
   "source": [
    "tuning_result"
   ]
  },
  {
   "cell_type": "code",
   "execution_count": 61,
   "id": "4a251fe7",
   "metadata": {},
   "outputs": [
    {
     "data": {
      "text/plain": [
       "0.8945479641131815"
      ]
     },
     "execution_count": 61,
     "metadata": {},
     "output_type": "execute_result"
    }
   ],
   "source": [
    "rcv.best_score_"
   ]
  },
  {
   "cell_type": "code",
   "execution_count": 71,
   "id": "ffc699d7",
   "metadata": {},
   "outputs": [
    {
     "data": {
      "text/plain": [
       "{'n_estimators': 135,\n",
       " 'min_samples_split': 3,\n",
       " 'max_features': 'log2',\n",
       " 'max_depth': 11,\n",
       " 'criterion': 'entropy'}"
      ]
     },
     "execution_count": 71,
     "metadata": {},
     "output_type": "execute_result"
    }
   ],
   "source": [
    "rcv.best_params_"
   ]
  },
  {
   "cell_type": "code",
   "execution_count": 74,
   "id": "85872595",
   "metadata": {},
   "outputs": [
    {
     "data": {
      "text/html": [
       "<style>#sk-container-id-8 {color: black;background-color: white;}#sk-container-id-8 pre{padding: 0;}#sk-container-id-8 div.sk-toggleable {background-color: white;}#sk-container-id-8 label.sk-toggleable__label {cursor: pointer;display: block;width: 100%;margin-bottom: 0;padding: 0.3em;box-sizing: border-box;text-align: center;}#sk-container-id-8 label.sk-toggleable__label-arrow:before {content: \"▸\";float: left;margin-right: 0.25em;color: #696969;}#sk-container-id-8 label.sk-toggleable__label-arrow:hover:before {color: black;}#sk-container-id-8 div.sk-estimator:hover label.sk-toggleable__label-arrow:before {color: black;}#sk-container-id-8 div.sk-toggleable__content {max-height: 0;max-width: 0;overflow: hidden;text-align: left;background-color: #f0f8ff;}#sk-container-id-8 div.sk-toggleable__content pre {margin: 0.2em;color: black;border-radius: 0.25em;background-color: #f0f8ff;}#sk-container-id-8 input.sk-toggleable__control:checked~div.sk-toggleable__content {max-height: 200px;max-width: 100%;overflow: auto;}#sk-container-id-8 input.sk-toggleable__control:checked~label.sk-toggleable__label-arrow:before {content: \"▾\";}#sk-container-id-8 div.sk-estimator input.sk-toggleable__control:checked~label.sk-toggleable__label {background-color: #d4ebff;}#sk-container-id-8 div.sk-label input.sk-toggleable__control:checked~label.sk-toggleable__label {background-color: #d4ebff;}#sk-container-id-8 input.sk-hidden--visually {border: 0;clip: rect(1px 1px 1px 1px);clip: rect(1px, 1px, 1px, 1px);height: 1px;margin: -1px;overflow: hidden;padding: 0;position: absolute;width: 1px;}#sk-container-id-8 div.sk-estimator {font-family: monospace;background-color: #f0f8ff;border: 1px dotted black;border-radius: 0.25em;box-sizing: border-box;margin-bottom: 0.5em;}#sk-container-id-8 div.sk-estimator:hover {background-color: #d4ebff;}#sk-container-id-8 div.sk-parallel-item::after {content: \"\";width: 100%;border-bottom: 1px solid gray;flex-grow: 1;}#sk-container-id-8 div.sk-label:hover label.sk-toggleable__label {background-color: #d4ebff;}#sk-container-id-8 div.sk-serial::before {content: \"\";position: absolute;border-left: 1px solid gray;box-sizing: border-box;top: 0;bottom: 0;left: 50%;z-index: 0;}#sk-container-id-8 div.sk-serial {display: flex;flex-direction: column;align-items: center;background-color: white;padding-right: 0.2em;padding-left: 0.2em;position: relative;}#sk-container-id-8 div.sk-item {position: relative;z-index: 1;}#sk-container-id-8 div.sk-parallel {display: flex;align-items: stretch;justify-content: center;background-color: white;position: relative;}#sk-container-id-8 div.sk-item::before, #sk-container-id-8 div.sk-parallel-item::before {content: \"\";position: absolute;border-left: 1px solid gray;box-sizing: border-box;top: 0;bottom: 0;left: 50%;z-index: -1;}#sk-container-id-8 div.sk-parallel-item {display: flex;flex-direction: column;z-index: 1;position: relative;background-color: white;}#sk-container-id-8 div.sk-parallel-item:first-child::after {align-self: flex-end;width: 50%;}#sk-container-id-8 div.sk-parallel-item:last-child::after {align-self: flex-start;width: 50%;}#sk-container-id-8 div.sk-parallel-item:only-child::after {width: 0;}#sk-container-id-8 div.sk-dashed-wrapped {border: 1px dashed gray;margin: 0 0.4em 0.5em 0.4em;box-sizing: border-box;padding-bottom: 0.4em;background-color: white;}#sk-container-id-8 div.sk-label label {font-family: monospace;font-weight: bold;display: inline-block;line-height: 1.2em;}#sk-container-id-8 div.sk-label-container {text-align: center;}#sk-container-id-8 div.sk-container {/* jupyter's `normalize.less` sets `[hidden] { display: none; }` but bootstrap.min.css set `[hidden] { display: none !important; }` so we also need the `!important` here to be able to override the default hidden behavior on the sphinx rendered scikit-learn.org. See: https://github.com/scikit-learn/scikit-learn/issues/21755 */display: inline-block !important;position: relative;}#sk-container-id-8 div.sk-text-repr-fallback {display: none;}</style><div id=\"sk-container-id-8\" class=\"sk-top-container\"><div class=\"sk-text-repr-fallback\"><pre>RandomForestClassifier(criterion=&#x27;entropy&#x27;, max_depth=11, max_features=&#x27;log2&#x27;,\n",
       "                       min_samples_split=3, n_estimators=135)</pre><b>In a Jupyter environment, please rerun this cell to show the HTML representation or trust the notebook. <br />On GitHub, the HTML representation is unable to render, please try loading this page with nbviewer.org.</b></div><div class=\"sk-container\" hidden><div class=\"sk-item\"><div class=\"sk-estimator sk-toggleable\"><input class=\"sk-toggleable__control sk-hidden--visually\" id=\"sk-estimator-id-10\" type=\"checkbox\" checked><label for=\"sk-estimator-id-10\" class=\"sk-toggleable__label sk-toggleable__label-arrow\">RandomForestClassifier</label><div class=\"sk-toggleable__content\"><pre>RandomForestClassifier(criterion=&#x27;entropy&#x27;, max_depth=11, max_features=&#x27;log2&#x27;,\n",
       "                       min_samples_split=3, n_estimators=135)</pre></div></div></div></div></div>"
      ],
      "text/plain": [
       "RandomForestClassifier(criterion='entropy', max_depth=11, max_features='log2',\n",
       "                       min_samples_split=3, n_estimators=135)"
      ]
     },
     "execution_count": 74,
     "metadata": {},
     "output_type": "execute_result"
    }
   ],
   "source": [
    "rcv.best_estimator_"
   ]
  },
  {
   "cell_type": "code",
   "execution_count": 75,
   "id": "93a77818",
   "metadata": {},
   "outputs": [],
   "source": [
    "rcv2 = rcv.best_estimator_"
   ]
  },
  {
   "cell_type": "code",
   "execution_count": 76,
   "id": "6f3efdbd",
   "metadata": {},
   "outputs": [
    {
     "data": {
      "text/html": [
       "<style>#sk-container-id-9 {color: black;background-color: white;}#sk-container-id-9 pre{padding: 0;}#sk-container-id-9 div.sk-toggleable {background-color: white;}#sk-container-id-9 label.sk-toggleable__label {cursor: pointer;display: block;width: 100%;margin-bottom: 0;padding: 0.3em;box-sizing: border-box;text-align: center;}#sk-container-id-9 label.sk-toggleable__label-arrow:before {content: \"▸\";float: left;margin-right: 0.25em;color: #696969;}#sk-container-id-9 label.sk-toggleable__label-arrow:hover:before {color: black;}#sk-container-id-9 div.sk-estimator:hover label.sk-toggleable__label-arrow:before {color: black;}#sk-container-id-9 div.sk-toggleable__content {max-height: 0;max-width: 0;overflow: hidden;text-align: left;background-color: #f0f8ff;}#sk-container-id-9 div.sk-toggleable__content pre {margin: 0.2em;color: black;border-radius: 0.25em;background-color: #f0f8ff;}#sk-container-id-9 input.sk-toggleable__control:checked~div.sk-toggleable__content {max-height: 200px;max-width: 100%;overflow: auto;}#sk-container-id-9 input.sk-toggleable__control:checked~label.sk-toggleable__label-arrow:before {content: \"▾\";}#sk-container-id-9 div.sk-estimator input.sk-toggleable__control:checked~label.sk-toggleable__label {background-color: #d4ebff;}#sk-container-id-9 div.sk-label input.sk-toggleable__control:checked~label.sk-toggleable__label {background-color: #d4ebff;}#sk-container-id-9 input.sk-hidden--visually {border: 0;clip: rect(1px 1px 1px 1px);clip: rect(1px, 1px, 1px, 1px);height: 1px;margin: -1px;overflow: hidden;padding: 0;position: absolute;width: 1px;}#sk-container-id-9 div.sk-estimator {font-family: monospace;background-color: #f0f8ff;border: 1px dotted black;border-radius: 0.25em;box-sizing: border-box;margin-bottom: 0.5em;}#sk-container-id-9 div.sk-estimator:hover {background-color: #d4ebff;}#sk-container-id-9 div.sk-parallel-item::after {content: \"\";width: 100%;border-bottom: 1px solid gray;flex-grow: 1;}#sk-container-id-9 div.sk-label:hover label.sk-toggleable__label {background-color: #d4ebff;}#sk-container-id-9 div.sk-serial::before {content: \"\";position: absolute;border-left: 1px solid gray;box-sizing: border-box;top: 0;bottom: 0;left: 50%;z-index: 0;}#sk-container-id-9 div.sk-serial {display: flex;flex-direction: column;align-items: center;background-color: white;padding-right: 0.2em;padding-left: 0.2em;position: relative;}#sk-container-id-9 div.sk-item {position: relative;z-index: 1;}#sk-container-id-9 div.sk-parallel {display: flex;align-items: stretch;justify-content: center;background-color: white;position: relative;}#sk-container-id-9 div.sk-item::before, #sk-container-id-9 div.sk-parallel-item::before {content: \"\";position: absolute;border-left: 1px solid gray;box-sizing: border-box;top: 0;bottom: 0;left: 50%;z-index: -1;}#sk-container-id-9 div.sk-parallel-item {display: flex;flex-direction: column;z-index: 1;position: relative;background-color: white;}#sk-container-id-9 div.sk-parallel-item:first-child::after {align-self: flex-end;width: 50%;}#sk-container-id-9 div.sk-parallel-item:last-child::after {align-self: flex-start;width: 50%;}#sk-container-id-9 div.sk-parallel-item:only-child::after {width: 0;}#sk-container-id-9 div.sk-dashed-wrapped {border: 1px dashed gray;margin: 0 0.4em 0.5em 0.4em;box-sizing: border-box;padding-bottom: 0.4em;background-color: white;}#sk-container-id-9 div.sk-label label {font-family: monospace;font-weight: bold;display: inline-block;line-height: 1.2em;}#sk-container-id-9 div.sk-label-container {text-align: center;}#sk-container-id-9 div.sk-container {/* jupyter's `normalize.less` sets `[hidden] { display: none; }` but bootstrap.min.css set `[hidden] { display: none !important; }` so we also need the `!important` here to be able to override the default hidden behavior on the sphinx rendered scikit-learn.org. See: https://github.com/scikit-learn/scikit-learn/issues/21755 */display: inline-block !important;position: relative;}#sk-container-id-9 div.sk-text-repr-fallback {display: none;}</style><div id=\"sk-container-id-9\" class=\"sk-top-container\"><div class=\"sk-text-repr-fallback\"><pre>RandomForestClassifier(criterion=&#x27;entropy&#x27;, max_depth=11, max_features=&#x27;log2&#x27;,\n",
       "                       min_samples_split=3, n_estimators=135)</pre><b>In a Jupyter environment, please rerun this cell to show the HTML representation or trust the notebook. <br />On GitHub, the HTML representation is unable to render, please try loading this page with nbviewer.org.</b></div><div class=\"sk-container\" hidden><div class=\"sk-item\"><div class=\"sk-estimator sk-toggleable\"><input class=\"sk-toggleable__control sk-hidden--visually\" id=\"sk-estimator-id-11\" type=\"checkbox\" checked><label for=\"sk-estimator-id-11\" class=\"sk-toggleable__label sk-toggleable__label-arrow\">RandomForestClassifier</label><div class=\"sk-toggleable__content\"><pre>RandomForestClassifier(criterion=&#x27;entropy&#x27;, max_depth=11, max_features=&#x27;log2&#x27;,\n",
       "                       min_samples_split=3, n_estimators=135)</pre></div></div></div></div></div>"
      ],
      "text/plain": [
       "RandomForestClassifier(criterion='entropy', max_depth=11, max_features='log2',\n",
       "                       min_samples_split=3, n_estimators=135)"
      ]
     },
     "execution_count": 76,
     "metadata": {},
     "output_type": "execute_result"
    }
   ],
   "source": [
    "rcv2.fit(xtrain,ytrain)"
   ]
  },
  {
   "cell_type": "code",
   "execution_count": 77,
   "id": "c1bd7a5d",
   "metadata": {},
   "outputs": [
    {
     "data": {
      "text/plain": [
       "0.7666666666666667"
      ]
     },
     "execution_count": 77,
     "metadata": {},
     "output_type": "execute_result"
    }
   ],
   "source": [
    "rcv2.score(xtest,ytest)"
   ]
  },
  {
   "cell_type": "code",
   "execution_count": 78,
   "id": "578ccef4",
   "metadata": {},
   "outputs": [
    {
     "data": {
      "text/html": [
       "<style>#sk-container-id-10 {color: black;background-color: white;}#sk-container-id-10 pre{padding: 0;}#sk-container-id-10 div.sk-toggleable {background-color: white;}#sk-container-id-10 label.sk-toggleable__label {cursor: pointer;display: block;width: 100%;margin-bottom: 0;padding: 0.3em;box-sizing: border-box;text-align: center;}#sk-container-id-10 label.sk-toggleable__label-arrow:before {content: \"▸\";float: left;margin-right: 0.25em;color: #696969;}#sk-container-id-10 label.sk-toggleable__label-arrow:hover:before {color: black;}#sk-container-id-10 div.sk-estimator:hover label.sk-toggleable__label-arrow:before {color: black;}#sk-container-id-10 div.sk-toggleable__content {max-height: 0;max-width: 0;overflow: hidden;text-align: left;background-color: #f0f8ff;}#sk-container-id-10 div.sk-toggleable__content pre {margin: 0.2em;color: black;border-radius: 0.25em;background-color: #f0f8ff;}#sk-container-id-10 input.sk-toggleable__control:checked~div.sk-toggleable__content {max-height: 200px;max-width: 100%;overflow: auto;}#sk-container-id-10 input.sk-toggleable__control:checked~label.sk-toggleable__label-arrow:before {content: \"▾\";}#sk-container-id-10 div.sk-estimator input.sk-toggleable__control:checked~label.sk-toggleable__label {background-color: #d4ebff;}#sk-container-id-10 div.sk-label input.sk-toggleable__control:checked~label.sk-toggleable__label {background-color: #d4ebff;}#sk-container-id-10 input.sk-hidden--visually {border: 0;clip: rect(1px 1px 1px 1px);clip: rect(1px, 1px, 1px, 1px);height: 1px;margin: -1px;overflow: hidden;padding: 0;position: absolute;width: 1px;}#sk-container-id-10 div.sk-estimator {font-family: monospace;background-color: #f0f8ff;border: 1px dotted black;border-radius: 0.25em;box-sizing: border-box;margin-bottom: 0.5em;}#sk-container-id-10 div.sk-estimator:hover {background-color: #d4ebff;}#sk-container-id-10 div.sk-parallel-item::after {content: \"\";width: 100%;border-bottom: 1px solid gray;flex-grow: 1;}#sk-container-id-10 div.sk-label:hover label.sk-toggleable__label {background-color: #d4ebff;}#sk-container-id-10 div.sk-serial::before {content: \"\";position: absolute;border-left: 1px solid gray;box-sizing: border-box;top: 0;bottom: 0;left: 50%;z-index: 0;}#sk-container-id-10 div.sk-serial {display: flex;flex-direction: column;align-items: center;background-color: white;padding-right: 0.2em;padding-left: 0.2em;position: relative;}#sk-container-id-10 div.sk-item {position: relative;z-index: 1;}#sk-container-id-10 div.sk-parallel {display: flex;align-items: stretch;justify-content: center;background-color: white;position: relative;}#sk-container-id-10 div.sk-item::before, #sk-container-id-10 div.sk-parallel-item::before {content: \"\";position: absolute;border-left: 1px solid gray;box-sizing: border-box;top: 0;bottom: 0;left: 50%;z-index: -1;}#sk-container-id-10 div.sk-parallel-item {display: flex;flex-direction: column;z-index: 1;position: relative;background-color: white;}#sk-container-id-10 div.sk-parallel-item:first-child::after {align-self: flex-end;width: 50%;}#sk-container-id-10 div.sk-parallel-item:last-child::after {align-self: flex-start;width: 50%;}#sk-container-id-10 div.sk-parallel-item:only-child::after {width: 0;}#sk-container-id-10 div.sk-dashed-wrapped {border: 1px dashed gray;margin: 0 0.4em 0.5em 0.4em;box-sizing: border-box;padding-bottom: 0.4em;background-color: white;}#sk-container-id-10 div.sk-label label {font-family: monospace;font-weight: bold;display: inline-block;line-height: 1.2em;}#sk-container-id-10 div.sk-label-container {text-align: center;}#sk-container-id-10 div.sk-container {/* jupyter's `normalize.less` sets `[hidden] { display: none; }` but bootstrap.min.css set `[hidden] { display: none !important; }` so we also need the `!important` here to be able to override the default hidden behavior on the sphinx rendered scikit-learn.org. See: https://github.com/scikit-learn/scikit-learn/issues/21755 */display: inline-block !important;position: relative;}#sk-container-id-10 div.sk-text-repr-fallback {display: none;}</style><div id=\"sk-container-id-10\" class=\"sk-top-container\"><div class=\"sk-text-repr-fallback\"><pre>DecisionTreeClassifier()</pre><b>In a Jupyter environment, please rerun this cell to show the HTML representation or trust the notebook. <br />On GitHub, the HTML representation is unable to render, please try loading this page with nbviewer.org.</b></div><div class=\"sk-container\" hidden><div class=\"sk-item\"><div class=\"sk-estimator sk-toggleable\"><input class=\"sk-toggleable__control sk-hidden--visually\" id=\"sk-estimator-id-12\" type=\"checkbox\" checked><label for=\"sk-estimator-id-12\" class=\"sk-toggleable__label sk-toggleable__label-arrow\">DecisionTreeClassifier</label><div class=\"sk-toggleable__content\"><pre>DecisionTreeClassifier()</pre></div></div></div></div></div>"
      ],
      "text/plain": [
       "DecisionTreeClassifier()"
      ]
     },
     "execution_count": 78,
     "metadata": {},
     "output_type": "execute_result"
    }
   ],
   "source": [
    "rcv2.base_estimator_"
   ]
  },
  {
   "cell_type": "code",
   "execution_count": null,
   "id": "36c13792",
   "metadata": {},
   "outputs": [],
   "source": [
    "rf.fit"
   ]
  }
 ],
 "metadata": {
  "kernelspec": {
   "display_name": "Python 3 (ipykernel)",
   "language": "python",
   "name": "python3"
  },
  "language_info": {
   "codemirror_mode": {
    "name": "ipython",
    "version": 3
   },
   "file_extension": ".py",
   "mimetype": "text/x-python",
   "name": "python",
   "nbconvert_exporter": "python",
   "pygments_lexer": "ipython3",
   "version": "3.10.4"
  }
 },
 "nbformat": 4,
 "nbformat_minor": 5
}
